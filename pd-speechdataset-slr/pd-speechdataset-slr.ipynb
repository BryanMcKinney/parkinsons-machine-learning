{
 "cells": [
  {
   "cell_type": "markdown",
   "metadata": {},
   "source": [
    "# SKFlow Simple Linear Regression on Parkinson's Disease Speech Dataset"
   ]
  },
  {
   "cell_type": "markdown",
   "metadata": {},
   "source": [
    "https://archive.ics.uci.edu/ml/datasets/Parkinson+Speech+Dataset+with++Multiple+Types+of+Sound+Recordings"
   ]
  },
  {
   "cell_type": "code",
   "execution_count": 1,
   "metadata": {
    "collapsed": true
   },
   "outputs": [],
   "source": [
    "%matplotlib inline\n",
    "import pandas as pd\n",
    "import tensorflow as tf\n",
    "import tensorflow.contrib.learn.python.learn as skflow\n",
    "from sklearn import datasets, metrics\n",
    "import numpy as np\n",
    "import matplotlib.pyplot as pp\n",
    "import os.path\n",
    "import pickle"
   ]
  },
  {
   "cell_type": "code",
   "execution_count": 4,
   "metadata": {
    "collapsed": true
   },
   "outputs": [],
   "source": [
    "### show label distribution\n",
    "def plot_labelDistribution(df,col):\n",
    "    te = df[col].sort_values().unique()\n",
    "    val = 0. # this is the value where you want the data to appear on the y-axis.\n",
    "    ar = np.arange(len(te)) # just as an example array\n",
    "    pp.plot(te, np.zeros_like(ar) + val, 'x')\n",
    "    pp.show()\n",
    "\n",
    "### Converting Data into Tensors\n",
    "def convert_dataframe(dataframe, colnames, labelcol):\n",
    "    X = np.array(dataframe[colnames].iloc[:,]).astype(np.float32)\n",
    "    Y = np.array(dataframe[labelcol].iloc[:,]).astype(np.float32)  \n",
    "    return X, Y\n",
    "\n",
    "### load or generate random ids for test and training sets\n",
    "def slice_ids(length,run_id):\n",
    "    idfile = \"models/\"+run_id+\"_ids\"\n",
    "    if os.path.isfile(idfile): \n",
    "        ### Re-run model\n",
    "        with open(idfile, 'rb') as fp:\n",
    "            randomInd = pickle.load(fp)\n",
    "    else:\n",
    "        ### First run\n",
    "        randomInd = np.random.permutation(length)\n",
    "        with open(idfile, 'wb') as fp:\n",
    "            pickle.dump(randomInd, fp)\n",
    "    \n",
    "    ###  70% of ids randomly selected for training\n",
    "    ###  30% of ids randomly selected for testing\n",
    "    mid = int(.7*length)\n",
    "    trainidx = randomInd[:mid]\n",
    "    testidx = randomInd[mid:]\n",
    "    return trainidx, testidx\n",
    "\n",
    "def run_LinearRegressor(run_id, steps = 100):\n",
    "    ### Get Training and Testing indexes\n",
    "    trainidx, testidx = slice_ids(len(X),run_id)\n",
    "\n",
    "    ### Define classifier - Simple Linear Regression\n",
    "    ### model_dir - this is where the model is saved. To re-run use the same runIdentifier\n",
    "    feature_columns = skflow.infer_real_valued_columns_from_input(X)\n",
    "    model = skflow.LinearRegressor(\n",
    "        feature_columns=feature_columns,\n",
    "        model_dir=\"models/SLR/\"+run_id,\n",
    "        enable_centered_bias=False)\n",
    "    \n",
    "    model.fit(X[trainidx,:], \n",
    "              Y[trainidx],#.astype(np.int), \n",
    "              steps=steps)\n",
    "    \n",
    "    y_p = model.predict(X[testidx,:])\n",
    "    y_t = Y[testidx]\n",
    "    return np.linalg.norm(y_t-y_p)/y_t.shape[0]"
   ]
  },
  {
   "cell_type": "markdown",
   "metadata": {},
   "source": [
    "# Load data and convert to tensors"
   ]
  },
  {
   "cell_type": "code",
   "execution_count": 2,
   "metadata": {
    "collapsed": false
   },
   "outputs": [],
   "source": [
    "COLUMN_NAMES = [\"subject_id\", \"jitter_local\", \"jitter_local_absolute\", \"jitter_rap\", \"jitter_ppq5\",\n",
    "                 \"jitter_ddp\",\"shimmer_local\",\"shimmer_local_db\",\"shimmer_apq3\",\"shimmer_apq5\",\n",
    "                 \"shimmer_apq11\",\"shimmer_dda\",\"ac\",\"nth\",\"htn\",\"pitch_median\",\"pitch_mean\",\"pitch_stddev\",\n",
    "                 \"pitch_min\",\"pitch_max\",\"number_of_pulses\", \"number_of_periods\", \"period_mean\",\n",
    "                 \"period_stddev\",\"locally_unvoiced_frames_fraction\",\"number_of_voice_breaks\",\n",
    "                 \"degree_of_voice_breaks\",\"updrs\",\"class_information\"]\n",
    "\n",
    "datafile = \"data/train_data.txt\"\n",
    "df_data = pd.read_csv(datafile, names=COLUMN_NAMES, header=None)\n",
    "\n",
    "### Create list of column names for feature data.\n",
    "featcol = list(df_data.columns.values)\n",
    "featcol.remove(\"subject_id\")\n",
    "featcol.remove(\"class_information\")\n",
    "featcol.remove(\"updrs\")"
   ]
  },
  {
   "cell_type": "markdown",
   "metadata": {},
   "source": [
    "### First Model fitting UPDRS - SLR"
   ]
  },
  {
   "cell_type": "code",
   "execution_count": 5,
   "metadata": {
    "collapsed": false
   },
   "outputs": [
    {
     "data": {
      "image/png": "[encoded data removed]",
      "text/plain": [
       "<matplotlib.figure.Figure at 0x11f603650>"
      ]
     },
     "metadata": {},
     "output_type": "display_data"
    }
   ],
   "source": [
    "labelcol = \"updrs\" \n",
    "X, Y = convert_dataframe(df_data, featcol, labelcol)\n",
    "plot_labelDistribution(df_data,labelcol)"
   ]
  },
  {
   "cell_type": "code",
   "execution_count": 5,
   "metadata": {
    "collapsed": false
   },
   "outputs": [
    {
     "name": "stderr",
     "output_type": "stream",
     "text": [
      "WARNING:tensorflow:Using default config.\n",
      "WARNING:tensorflow:Calling predict (from tensorflow.contrib.learn.python.learn.estimators.estimator) with as_iterable=False is deprecated and will be removed after 2016-09-15.\n",
      "Instructions for updating:\n",
      "The default behavior of predict() is changing. The default value for\n",
      "as_iterable will change to True, and then the flag will be removed\n",
      "altogether. The behavior of this flag is described below.\n"
     ]
    },
    {
     "name": "stdout",
     "output_type": "stream",
     "text": [
      "Average Error: 0.838205190805\n",
      "CPU times: user 25.3 s, sys: 2.75 s, total: 28.1 s\n",
      "Wall time: 23.6 s\n"
     ]
    }
   ],
   "source": [
    "%%time\n",
    "print \"Average Error: {0}\".format(run_LinearRegressor(\"SLR_UPDRS_001\", 10000))"
   ]
  },
  {
   "cell_type": "code",
   "execution_count": 6,
   "metadata": {
    "collapsed": false
   },
   "outputs": [
    {
     "name": "stderr",
     "output_type": "stream",
     "text": [
      "WARNING:tensorflow:Using default config.\n",
      "WARNING:tensorflow:Calling predict (from tensorflow.contrib.learn.python.learn.estimators.estimator) with as_iterable=False is deprecated and will be removed after 2016-09-15.\n",
      "Instructions for updating:\n",
      "The default behavior of predict() is changing. The default value for\n",
      "as_iterable will change to True, and then the flag will be removed\n",
      "altogether. The behavior of this flag is described below.\n"
     ]
    },
    {
     "name": "stdout",
     "output_type": "stream",
     "text": [
      "Average Error: 0.851975367619\n",
      "CPU times: user 24.5 s, sys: 2.63 s, total: 27.1 s\n",
      "Wall time: 22.8 s\n"
     ]
    }
   ],
   "source": [
    "%%time\n",
    "print \"Average Error: {0}\".format(run_LinearRegressor(\"SLR_UPDRS_002\", 10000))"
   ]
  },
  {
   "cell_type": "code",
   "execution_count": 7,
   "metadata": {
    "collapsed": false
   },
   "outputs": [
    {
     "name": "stderr",
     "output_type": "stream",
     "text": [
      "WARNING:tensorflow:Using default config.\n",
      "WARNING:tensorflow:Calling predict (from tensorflow.contrib.learn.python.learn.estimators.estimator) with as_iterable=False is deprecated and will be removed after 2016-09-15.\n",
      "Instructions for updating:\n",
      "The default behavior of predict() is changing. The default value for\n",
      "as_iterable will change to True, and then the flag will be removed\n",
      "altogether. The behavior of this flag is described below.\n"
     ]
    },
    {
     "name": "stdout",
     "output_type": "stream",
     "text": [
      "Average Error: 0.859457651774\n",
      "CPU times: user 24.4 s, sys: 2.59 s, total: 27 s\n",
      "Wall time: 22.7 s\n"
     ]
    }
   ],
   "source": [
    "%%time\n",
    "print \"Average Error: {0}\".format(run_LinearRegressor(\"SLR_UPDRS_003\", 10000))"
   ]
  },
  {
   "cell_type": "code",
   "execution_count": 8,
   "metadata": {
    "collapsed": false
   },
   "outputs": [
    {
     "name": "stderr",
     "output_type": "stream",
     "text": [
      "WARNING:tensorflow:Using default config.\n",
      "WARNING:tensorflow:Calling predict (from tensorflow.contrib.learn.python.learn.estimators.estimator) with as_iterable=False is deprecated and will be removed after 2016-09-15.\n",
      "Instructions for updating:\n",
      "The default behavior of predict() is changing. The default value for\n",
      "as_iterable will change to True, and then the flag will be removed\n",
      "altogether. The behavior of this flag is described below.\n"
     ]
    },
    {
     "name": "stdout",
     "output_type": "stream",
     "text": [
      "Average Error: 0.801409794734\n",
      "CPU times: user 24.4 s, sys: 2.63 s, total: 27 s\n",
      "Wall time: 22.6 s\n"
     ]
    }
   ],
   "source": [
    "%%time\n",
    "print \"Average Error: {0}\".format(run_LinearRegressor(\"SLR_UPDRS_004\", 10000))"
   ]
  },
  {
   "cell_type": "markdown",
   "metadata": {
    "collapsed": true
   },
   "source": [
    "# Use Models to predict UPDRS Scores for the Test patients - No way to verify"
   ]
  },
  {
   "cell_type": "code",
   "execution_count": 9,
   "metadata": {
    "collapsed": true
   },
   "outputs": [],
   "source": [
    "def predictValues(run_id, testX):\n",
    "    ### Define classifier - Simple Linear Regression\n",
    "    ### model_dir - this is where the model is saved. To re-run use the same runIdentifier\n",
    "    feature_columns = skflow.infer_real_valued_columns_from_input(X)\n",
    "    model = skflow.LinearRegressor(\n",
    "        feature_columns=feature_columns,\n",
    "        model_dir=\"models/SLR/\"+run_id,\n",
    "        enable_centered_bias=False)\n",
    "\n",
    "    y_p = model.predict(testX)\n",
    "    return y_p    "
   ]
  },
  {
   "cell_type": "code",
   "execution_count": 10,
   "metadata": {
    "collapsed": true
   },
   "outputs": [],
   "source": [
    "COLUMN_NAMES = [\"subject_id\", \"jitter_local\", \"jitter_local_absolute\", \"jitter_rap\", \"jitter_ppq5\",\n",
    "                 \"jitter_ddp\",\"shimmer_local\",\"shimmer_local_db\",\"shimmer_apq3\",\"shimmer_apq5\",\n",
    "                 \"shimmer_apq11\",\"shimmer_dda\",\"ac\",\"nth\",\"htn\",\"pitch_median\",\"pitch_mean\",\"pitch_stddev\",\n",
    "                 \"pitch_min\",\"pitch_max\",\"number_of_pulses\", \"number_of_periods\", \"period_mean\",\n",
    "                 \"period_stddev\",\"locally_unvoiced_frames_fraction\",\"number_of_voice_breaks\",\n",
    "                 \"degree_of_voice_breaks\",\"class_information\"]\n",
    "\n",
    "datafile = \"data/test_data.txt\"\n",
    "df_data = pd.read_csv(datafile, names=COLUMN_NAMES, header=None)\n",
    "\n",
    "featcol = list(df_data.columns.values)\n",
    "featcol.remove(\"subject_id\")\n",
    "featcol.remove(\"class_information\")\n",
    "testData = np.array(df_data[featcol].iloc[:,]).astype(np.float32)"
   ]
  },
  {
   "cell_type": "code",
   "execution_count": 11,
   "metadata": {
    "collapsed": false
   },
   "outputs": [
    {
     "name": "stderr",
     "output_type": "stream",
     "text": [
      "WARNING:tensorflow:Using default config.\n",
      "WARNING:tensorflow:Calling predict (from tensorflow.contrib.learn.python.learn.estimators.estimator) with as_iterable=False is deprecated and will be removed after 2016-09-15.\n",
      "Instructions for updating:\n",
      "The default behavior of predict() is changing. The default value for\n",
      "as_iterable will change to True, and then the flag will be removed\n",
      "altogether. The behavior of this flag is described below.\n"
     ]
    },
    {
     "name": "stdout",
     "output_type": "stream",
     "text": [
      "CPU times: user 62.8 ms, sys: 2.38 ms, total: 65.2 ms\n",
      "Wall time: 63 ms\n"
     ]
    },
    {
     "data": {
      "text/plain": [
       "array([  9.83985233,  11.33826542,  10.86571407,  12.86453915,\n",
       "        13.14043331,  12.29812527,  11.14152813,  10.75028515,\n",
       "         9.73122501,  12.83628464,  11.49466038,  12.15018082,\n",
       "        11.05200672,  14.96885967,   9.77010632,   5.57711983,\n",
       "         8.49628735,   7.99481201,   7.80993938,   9.69421864,\n",
       "        14.11774826,   6.86259937,   9.37899494,  15.71418095,\n",
       "         3.56271839,   6.71672344,  16.25206375,  18.4925251 ,\n",
       "         8.69020939,  13.27634525,   6.82678032,   9.52336025,\n",
       "         7.05559063,   9.66985989,   9.77999401,  10.66525364,\n",
       "         8.63033962,   8.80997181,   7.85279751,   9.56865215,\n",
       "        11.68294048,  11.12195301,  12.56541538,  11.3822422 ,\n",
       "        12.6327219 ,  11.73091793,  10.05574608,  12.06821537,\n",
       "        11.20923519,   9.75643826,  10.79298496,  11.81182957,\n",
       "        10.38191319,  10.58582306,  10.37497616,  10.37497616,\n",
       "        14.17206097,  10.64422894,  10.5246439 ,   9.27067184,\n",
       "         9.2663908 ,   9.2516489 ,   9.44782734,  10.36835003,\n",
       "         9.96247005,   9.90604305,   8.41712284,   8.94025135,\n",
       "         8.56772995,  12.03596783,  11.67732143,  10.71635914,\n",
       "         9.25458241,   9.29330349,  10.74615574,   9.96534824,\n",
       "        10.10529041,   9.9305048 ,   9.29456329,   9.65115547,\n",
       "         9.18122101,  11.88021278,  11.62679768,  11.58456802,\n",
       "         9.16030598,   9.20858097,  10.27216053,  10.60228825,\n",
       "         9.82105732,  10.46321964,   7.34578037,   7.67703724,\n",
       "         8.66673756,   8.40417671,  10.3506794 ,  10.50043201,\n",
       "         8.6774683 ,  11.02394772,  11.1405592 ,  12.15655613,\n",
       "        11.35413456,  10.25056076,  11.24475765,  10.55452442,\n",
       "        11.37316799,  12.31298065,  12.75936413,  12.84982967,\n",
       "        10.86942673,  12.70427132,  11.67837048,  11.14177227,\n",
       "        14.09053993,  12.80543423,   8.66952324,   7.03807211,\n",
       "         9.29545689,  11.10945988,  11.1063509 ,  11.80357742,\n",
       "         9.61031914,  10.32887173,   9.98295975,  11.64868164,\n",
       "        11.13759518,   9.21387959,   8.46848965,   8.16687107,\n",
       "         8.53570652,  11.67378616,  11.14111805,  11.8809576 ,\n",
       "        11.85385799,  10.51404667,  11.1284008 ,  10.79708099,\n",
       "        12.49518108,  11.18722439,   5.7492075 ,   8.08739471,\n",
       "         7.18252087,   8.53022194,   9.10149956,  10.01157665,\n",
       "         7.4686203 ,   7.94713306,   8.47444439,   8.71586323,\n",
       "         9.31066227,   9.41466522,   9.79402828,   9.96489429,\n",
       "        10.8422327 ,  13.61770153,  13.73318195,  12.80714512,\n",
       "         9.61898232,   9.90351486,  12.97352695,  11.4275732 ,\n",
       "        11.31611538,  12.04356861,  10.56416988,  10.69794369,\n",
       "        10.49289799,  11.04804897,  10.71131611,  11.4232769 ], dtype=float32)"
      ]
     },
     "execution_count": 11,
     "metadata": {},
     "output_type": "execute_result"
    }
   ],
   "source": [
    "%%time\n",
    "predictValues(\"SLR_UPDRS_004\", testData)"
   ]
  },
  {
   "cell_type": "code",
   "execution_count": 12,
   "metadata": {
    "collapsed": false
   },
   "outputs": [
    {
     "name": "stderr",
     "output_type": "stream",
     "text": [
      "WARNING:tensorflow:Using default config.\n",
      "WARNING:tensorflow:Calling predict (from tensorflow.contrib.learn.python.learn.estimators.estimator) with as_iterable=False is deprecated and will be removed after 2016-09-15.\n",
      "Instructions for updating:\n",
      "The default behavior of predict() is changing. The default value for\n",
      "as_iterable will change to True, and then the flag will be removed\n",
      "altogether. The behavior of this flag is described below.\n"
     ]
    },
    {
     "name": "stdout",
     "output_type": "stream",
     "text": [
      "CPU times: user 65.1 ms, sys: 2.64 ms, total: 67.7 ms\n",
      "Wall time: 65.4 ms\n"
     ]
    },
    {
     "data": {
      "text/plain": [
       "array([ 10.61427593,  12.27134514,  11.7271204 ,  13.85637951,\n",
       "        14.15016651,  13.30985165,  11.25522709,  10.64565945,\n",
       "         9.71624088,  13.14261627,  11.66380978,  12.39119625,\n",
       "        11.53330708,  14.51761341,   9.76466942,   5.69794559,\n",
       "         9.03184986,   8.98165035,   7.81007719,   9.86635303,\n",
       "        13.79660034,   7.54464865,  10.18355942,  14.41017628,\n",
       "         6.18338299,   8.14276791,  15.02574062,  17.43081474,\n",
       "         8.7367115 ,  12.88760185,   7.32179976,   9.6551609 ,\n",
       "         7.64626169,  10.43942261,  10.52270031,  11.50682545,\n",
       "         9.37666225,   9.53766346,   8.71421146,  10.57332134,\n",
       "        10.50919056,   9.7977953 ,  13.13465977,  11.542593  ,\n",
       "        13.22173977,  11.68647957,  10.57450962,  12.68679714,\n",
       "        11.58792782,  10.01759815,  11.12138081,  12.08946514,\n",
       "        10.62017536,  10.83692265,  10.46521473,  10.46521473,\n",
       "        13.46115208,  11.25106716,  10.79948711,   9.72984409,\n",
       "        10.37658596,  10.33840656,  10.38538456,  11.51707363,\n",
       "        10.96313   ,  10.86024189,   8.59029961,   9.32916451,\n",
       "         8.83920574,  12.52310753,  12.40053082,  11.47031498,\n",
       "        10.26994038,  10.33497143,  11.30476284,  10.737813  ,\n",
       "        10.87887478,  10.93093014,   9.87528706,  10.37796879,\n",
       "         9.81275845,  12.69598293,  12.50942898,  12.3653965 ,\n",
       "        10.24704647,  10.34473515,  11.33282948,  11.61947727,\n",
       "        11.0466814 ,  11.53731632,   7.68426085,   8.04699039,\n",
       "         9.03249264,   8.79741478,  10.33074665,  10.49911594,\n",
       "         9.14057446,  11.07819462,  11.23173809,  12.32074261,\n",
       "        11.39027882,  10.21816349,  11.43729877,  10.71356773,\n",
       "        11.58019352,  12.4780817 ,  13.04786015,  13.06810284,\n",
       "        11.16840172,  13.25054073,  12.19660664,  11.53483677,\n",
       "        14.17769337,  12.92523766,   9.23791218,   7.71450377,\n",
       "         9.7108202 ,  11.76391315,  11.61909676,  12.38801956,\n",
       "        10.18577957,  10.85667133,  10.5661459 ,  12.3821497 ,\n",
       "        11.93756962,   9.95691872,   8.75373173,   8.49732113,\n",
       "         8.88650227,  12.43186665,  11.85596561,  12.65004635,\n",
       "        12.04770184,  10.63076305,  11.18312931,  11.46768284,\n",
       "        12.74293041,  11.2354002 ,   5.07727194,   8.53706455,\n",
       "         7.58664083,   9.05914497,   9.76143932,  10.69430065,\n",
       "         7.97674131,   8.45406628,   9.08195591,   9.37409019,\n",
       "        10.0606184 ,  10.14130497,  10.70172215,  10.90165806,\n",
       "        11.85118389,  14.75910664,  14.80991459,  13.90878582,\n",
       "         9.97187233,  10.10684013,  12.68055439,  11.6724596 ,\n",
       "        11.5815258 ,  12.01828766,  11.03815746,  10.97427082,\n",
       "        10.56639862,  10.91990948,  10.52896404,  11.20968723], dtype=float32)"
      ]
     },
     "execution_count": 12,
     "metadata": {},
     "output_type": "execute_result"
    }
   ],
   "source": [
    "%%time\n",
    "predictValues(\"SLR_UPDRS_001\", testData)"
   ]
  },
  {
   "cell_type": "code",
   "execution_count": null,
   "metadata": {
    "collapsed": true
   },
   "outputs": [],
   "source": []
  }
 ],
 "metadata": {
  "anaconda-cloud": {},
  "kernelspec": {
   "display_name": "Python [Root]",
   "language": "python",
   "name": "Python [Root]"
  },
  "language_info": {
   "codemirror_mode": {
    "name": "ipython",
    "version": 2
   },
   "file_extension": ".py",
   "mimetype": "text/x-python",
   "name": "python",
   "nbconvert_exporter": "python",
   "pygments_lexer": "ipython2",
   "version": "2.7.12"
  }
 },
 "nbformat": 4,
 "nbformat_minor": 0
}
