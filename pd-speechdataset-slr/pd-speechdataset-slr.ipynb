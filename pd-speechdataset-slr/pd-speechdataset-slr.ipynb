{
 "cells": [
  {
   "cell_type": "markdown",
   "metadata": {},
   "source": [
    "# SKFlow Simple Linear Regression on Parkinson's Disease Speech Dataset"
   ]
  },
  {
   "cell_type": "markdown",
   "metadata": {},
   "source": [
    "https://archive.ics.uci.edu/ml/datasets/Parkinson+Speech+Dataset+with++Multiple+Types+of+Sound+Recordings"
   ]
  },
  {
   "cell_type": "code",
   "execution_count": 1,
   "metadata": {
    "collapsed": true
   },
   "outputs": [],
   "source": [
    "import pandas as pd\n",
    "import tensorflow as tf\n",
    "import tensorflow.contrib.learn.python.learn as skflow\n",
    "from sklearn import datasets, metrics\n",
    "import numpy as np\n",
    "import os.path\n",
    "import pickle"
   ]
  },
  {
   "cell_type": "code",
   "execution_count": 2,
   "metadata": {
    "collapsed": true
   },
   "outputs": [],
   "source": [
    "### Converting Data into Tensors\n",
    "def convert_dataframe(dataframe, colnames, labelcol):\n",
    "    X = np.array(dataframe[colnames].iloc[:,]).astype(np.float32)\n",
    "    Y = np.array(dataframe[labelcol].iloc[:,]).astype(np.float32)  \n",
    "    return X, Y\n",
    "\n",
    "### load or generate random ids for test and training sets\n",
    "def slice_ids(length,run_id):\n",
    "    idfile = \"models/\"+run_id+\"_ids\"\n",
    "    if os.path.isfile(idfile): \n",
    "        ### Re-run model\n",
    "        with open(idfile, 'rb') as fp:\n",
    "            randomInd = pickle.load(fp)\n",
    "    else:\n",
    "        ### First run\n",
    "        randomInd = np.random.permutation(length)\n",
    "        with open(idfile, 'wb') as fp:\n",
    "            pickle.dump(randomInd, fp)\n",
    "    \n",
    "    ###  70% of ids randomly selected for training\n",
    "    ###  30% of ids randomly selected for testing\n",
    "    mid = int(.7*length)\n",
    "    trainidx = randomInd[:mid]\n",
    "    testidx = randomInd[mid:]\n",
    "    return trainidx, testidx\n",
    "\n",
    "def run_LinearRegressor(run_id, steps = 100):\n",
    "    ### Get Training and Testing indexes\n",
    "    trainidx, testidx = slice_ids(len(X),run_id)\n",
    "\n",
    "    ### Define classifier - Simple Linear Regression\n",
    "    ### model_dir - this is where the model is saved. To re-run use the same runIdentifier\n",
    "    feature_columns = skflow.infer_real_valued_columns_from_input(X)\n",
    "    model = skflow.LinearRegressor(\n",
    "        feature_columns=feature_columns,\n",
    "        model_dir=\"models/SLR/\"+run_id,\n",
    "        enable_centered_bias=False)\n",
    "    \n",
    "    model.fit(X[trainidx,:], \n",
    "              Y[trainidx],#.astype(np.int), \n",
    "              steps=steps)\n",
    "    \n",
    "    y_p = model.predict(X[testidx,:])\n",
    "    y_t = Y[testidx]\n",
    "    return np.linalg.norm(y_t-y_p)/y_t.shape[0]"
   ]
  },
  {
   "cell_type": "markdown",
   "metadata": {},
   "source": [
    "# Load data and convert to tensors"
   ]
  },
  {
   "cell_type": "code",
   "execution_count": 3,
   "metadata": {
    "collapsed": false
   },
   "outputs": [],
   "source": [
    "COLUMN_NAMES = [\"subject_id\", \"jitter_local\", \"jitter_local_absolute\", \"jitter_rap\", \"jitter_ppq5\",\n",
    "                 \"jitter_ddp\",\"shimmer_local\",\"shimmer_local_db\",\"shimmer_apq3\",\"shimmer_apq5\",\n",
    "                 \"shimmer_apq11\",\"shimmer_dda\",\"ac\",\"nth\",\"htn\",\"pitch_median\",\"pitch_mean\",\"pitch_stddev\",\n",
    "                 \"pitch_min\",\"pitch_max\",\"number_of_pulses\", \"number_of_periods\", \"period_mean\",\n",
    "                 \"period_stddev\",\"locally_unvoiced_frames_fraction\",\"number_of_voice_breaks\",\n",
    "                 \"degree_of_voice_breaks\",\"updrs\",\"class_information\"]\n",
    "\n",
    "datafile = \"data/train_data.txt\"\n",
    "df_data = pd.read_csv(datafile, names=COLUMN_NAMES, header=None)\n",
    "\n",
    "### Create list of column names for feature data.\n",
    "featcol = list(df_data.columns.values)\n",
    "featcol.remove(\"subject_id\")\n",
    "featcol.remove(\"class_information\")\n",
    "featcol.remove(\"updrs\")"
   ]
  },
  {
   "cell_type": "code",
   "execution_count": 4,
   "metadata": {
    "collapsed": true
   },
   "outputs": [],
   "source": [
    "labelcol = \"updrs\" \n",
    "X, Y = convert_dataframe(df_data, featcol, labelcol)"
   ]
  },
  {
   "cell_type": "markdown",
   "metadata": {},
   "source": [
    "# Run Some Different tests"
   ]
  },
  {
   "cell_type": "code",
   "execution_count": 5,
   "metadata": {
    "collapsed": false
   },
   "outputs": [
    {
     "name": "stderr",
     "output_type": "stream",
     "text": [
      "WARNING:tensorflow:Using default config.\n",
      "WARNING:tensorflow:Calling predict (from tensorflow.contrib.learn.python.learn.estimators.estimator) with as_iterable=False is deprecated and will be removed after 2016-09-15.\n",
      "Instructions for updating:\n",
      "The default behavior of predict() is changing. The default value for\n",
      "as_iterable will change to True, and then the flag will be removed\n",
      "altogether. The behavior of this flag is described below.\n"
     ]
    },
    {
     "name": "stdout",
     "output_type": "stream",
     "text": [
      "Average Error: 0.83665622809\n",
      "CPU times: user 30.5 s, sys: 2.97 s, total: 33.5 s\n",
      "Wall time: 30 s\n"
     ]
    }
   ],
   "source": [
    "%%time\n",
    "print \"Average Error: {0}\".format(run_LinearRegressor(\"SLR_UPDRS_001\", 10000))"
   ]
  },
  {
   "cell_type": "code",
   "execution_count": 6,
   "metadata": {
    "collapsed": false
   },
   "outputs": [
    {
     "name": "stderr",
     "output_type": "stream",
     "text": [
      "WARNING:tensorflow:Using default config.\n",
      "WARNING:tensorflow:Calling predict (from tensorflow.contrib.learn.python.learn.estimators.estimator) with as_iterable=False is deprecated and will be removed after 2016-09-15.\n",
      "Instructions for updating:\n",
      "The default behavior of predict() is changing. The default value for\n",
      "as_iterable will change to True, and then the flag will be removed\n",
      "altogether. The behavior of this flag is described below.\n"
     ]
    },
    {
     "name": "stdout",
     "output_type": "stream",
     "text": [
      "Average Error: 0.857258429894\n",
      "CPU times: user 31.4 s, sys: 3.03 s, total: 34.4 s\n",
      "Wall time: 29.7 s\n"
     ]
    }
   ],
   "source": [
    "%%time\n",
    "print \"Average Error: {0}\".format(run_LinearRegressor(\"SLR_UPDRS_002\", 10000))"
   ]
  },
  {
   "cell_type": "code",
   "execution_count": 7,
   "metadata": {
    "collapsed": false
   },
   "outputs": [
    {
     "name": "stderr",
     "output_type": "stream",
     "text": [
      "WARNING:tensorflow:Using default config.\n",
      "WARNING:tensorflow:Calling predict (from tensorflow.contrib.learn.python.learn.estimators.estimator) with as_iterable=False is deprecated and will be removed after 2016-09-15.\n",
      "Instructions for updating:\n",
      "The default behavior of predict() is changing. The default value for\n",
      "as_iterable will change to True, and then the flag will be removed\n",
      "altogether. The behavior of this flag is described below.\n"
     ]
    },
    {
     "name": "stdout",
     "output_type": "stream",
     "text": [
      "Average Error: 0.910520309057\n",
      "CPU times: user 31.7 s, sys: 3.06 s, total: 34.7 s\n",
      "Wall time: 30 s\n"
     ]
    }
   ],
   "source": [
    "%%time\n",
    "print \"Average Error: {0}\".format(run_LinearRegressor(\"SLR_UPDRS_003\", 10000))"
   ]
  },
  {
   "cell_type": "code",
   "execution_count": 8,
   "metadata": {
    "collapsed": false
   },
   "outputs": [
    {
     "name": "stderr",
     "output_type": "stream",
     "text": [
      "WARNING:tensorflow:Using default config.\n",
      "WARNING:tensorflow:Calling predict (from tensorflow.contrib.learn.python.learn.estimators.estimator) with as_iterable=False is deprecated and will be removed after 2016-09-15.\n",
      "Instructions for updating:\n",
      "The default behavior of predict() is changing. The default value for\n",
      "as_iterable will change to True, and then the flag will be removed\n",
      "altogether. The behavior of this flag is described below.\n"
     ]
    },
    {
     "name": "stdout",
     "output_type": "stream",
     "text": [
      "Average Error: 0.861911969307\n",
      "CPU times: user 31.6 s, sys: 2.98 s, total: 34.5 s\n",
      "Wall time: 29.8 s\n"
     ]
    }
   ],
   "source": [
    "%%time\n",
    "print \"Average Error: {0}\".format(run_LinearRegressor(\"SLR_UPDRS_004\", 10000))"
   ]
  },
  {
   "cell_type": "markdown",
   "metadata": {
    "collapsed": true
   },
   "source": [
    "# Use Models to predict UPDRS Scores for the Test patients - No way to verify"
   ]
  },
  {
   "cell_type": "code",
   "execution_count": 10,
   "metadata": {
    "collapsed": true
   },
   "outputs": [],
   "source": [
    "def predictValues(run_id, testX):\n",
    "    ### Define classifier - Simple Linear Regression\n",
    "    ### model_dir - this is where the model is saved. To re-run use the same runIdentifier\n",
    "    feature_columns = skflow.infer_real_valued_columns_from_input(X)\n",
    "    model = skflow.LinearRegressor(\n",
    "        feature_columns=feature_columns,\n",
    "        model_dir=\"models/SLR/\"+run_id,\n",
    "        enable_centered_bias=False)\n",
    "\n",
    "    y_p = model.predict(testX)\n",
    "    return y_p    "
   ]
  },
  {
   "cell_type": "code",
   "execution_count": 11,
   "metadata": {
    "collapsed": true
   },
   "outputs": [],
   "source": [
    "COLUMN_NAMES = [\"subject_id\", \"jitter_local\", \"jitter_local_absolute\", \"jitter_rap\", \"jitter_ppq5\",\n",
    "                 \"jitter_ddp\",\"shimmer_local\",\"shimmer_local_db\",\"shimmer_apq3\",\"shimmer_apq5\",\n",
    "                 \"shimmer_apq11\",\"shimmer_dda\",\"ac\",\"nth\",\"htn\",\"pitch_median\",\"pitch_mean\",\"pitch_stddev\",\n",
    "                 \"pitch_min\",\"pitch_max\",\"number_of_pulses\", \"number_of_periods\", \"period_mean\",\n",
    "                 \"period_stddev\",\"locally_unvoiced_frames_fraction\",\"number_of_voice_breaks\",\n",
    "                 \"degree_of_voice_breaks\",\"class_information\"]\n",
    "\n",
    "datafile = \"data/test_data.txt\"\n",
    "df_data = pd.read_csv(datafile, names=COLUMN_NAMES, header=None)\n",
    "\n",
    "featcol = list(df_data.columns.values)\n",
    "featcol.remove(\"subject_id\")\n",
    "featcol.remove(\"class_information\")\n",
    "testData = np.array(df_data[featcol].iloc[:,]).astype(np.float32)"
   ]
  },
  {
   "cell_type": "code",
   "execution_count": 12,
   "metadata": {
    "collapsed": false
   },
   "outputs": [
    {
     "name": "stderr",
     "output_type": "stream",
     "text": [
      "WARNING:tensorflow:Using default config.\n",
      "WARNING:tensorflow:Calling predict (from tensorflow.contrib.learn.python.learn.estimators.estimator) with as_iterable=False is deprecated and will be removed after 2016-09-15.\n",
      "Instructions for updating:\n",
      "The default behavior of predict() is changing. The default value for\n",
      "as_iterable will change to True, and then the flag will be removed\n",
      "altogether. The behavior of this flag is described below.\n"
     ]
    },
    {
     "name": "stdout",
     "output_type": "stream",
     "text": [
      "CPU times: user 73.3 ms, sys: 5.11 ms, total: 78.5 ms\n",
      "Wall time: 78.4 ms\n"
     ]
    },
    {
     "data": {
      "text/plain": [
       "array([  8.90001965,  10.18336105,   9.72231007,  11.58966446,\n",
       "        11.84992886,  11.24682903,   9.94858074,   9.10394382,\n",
       "         8.50317764,  11.6996727 ,  10.37724972,  10.47740078,\n",
       "        12.37574959,  15.5326376 ,   8.77845764,   4.49829292,\n",
       "         8.22646809,   7.98786545,   7.09722519,  10.29768753,\n",
       "        12.8442812 ,   6.39231968,   8.904603  ,  12.9677515 ,\n",
       "         5.53757668,   6.96958733,  13.39861012,  15.51123333,\n",
       "         7.22864199,  11.38257885,   6.52732658,   8.09049129,\n",
       "         6.89475155,   9.11819363,   9.36974335,   9.87164593,\n",
       "         8.98575687,   8.71587276,   7.75513363,   9.21525097,\n",
       "         9.19638348,   8.3857851 ,  10.92054272,   9.62572861,\n",
       "        10.94377995,  10.36156845,   9.21939754,  10.76749516,\n",
       "        11.46788883,   9.12350082,   9.79336262,  10.44120312,\n",
       "         9.26424694,   9.49556065,   9.54784966,   9.54784966,\n",
       "        12.55902958,   9.83314228,   9.14494324,   8.38248444,\n",
       "         8.90461063,   9.20493031,   9.37521267,   9.82566357,\n",
       "         9.78217602,   9.51683331,   7.4640646 ,   7.9446764 ,\n",
       "         7.47268391,  10.82407475,  10.80882549,   9.9274931 ,\n",
       "         8.77809811,   8.74911404,   9.58500195,   9.15529346,\n",
       "         9.32085514,   9.26210308,   9.17647266,   9.18828297,\n",
       "         8.50704288,  10.93142509,  11.7842617 ,  10.67745495,\n",
       "         8.84208965,   9.07078457,   9.6099081 ,   9.7854166 ,\n",
       "         9.29887104,   9.73972034,   7.35410213,   7.61550045,\n",
       "         8.48921871,   8.59869385,   9.30672359,   9.2699728 ,\n",
       "         8.78520679,  11.02810287,  10.77418041,  11.95350933,\n",
       "        11.0805254 ,   9.92035389,   9.65262318,   9.47691631,\n",
       "         9.9465189 ,  10.60691738,  11.2553072 ,  11.12686539,\n",
       "         9.37058163,  11.15294552,  10.26708698,   9.75260067,\n",
       "        11.88166618,  10.82796478,   7.91253567,   6.22310925,\n",
       "         8.47428226,   9.95348644,   9.8316431 ,  10.46339703,\n",
       "         8.86764622,   9.55439281,   9.17239857,  10.36713314,\n",
       "        10.01779079,   8.35893917,   8.35651112,   7.60883522,\n",
       "         8.27645016,  10.82614231,  10.10620213,  10.88019848,\n",
       "        11.54952908,  10.50207901,  10.27558517,  11.04571629,\n",
       "        11.5409441 ,  10.32503605,   5.07946825,   7.88093472,\n",
       "         7.07768536,   8.33716679,   9.41938686,   9.62217045,\n",
       "         7.00335979,   7.72710323,   7.94992352,   8.87702656,\n",
       "         9.42107582,   8.85233498,   8.90245152,   9.10339642,\n",
       "         9.89433384,  12.43291569,  12.44464779,  11.74483967,\n",
       "         9.29102421,   8.9103632 ,  11.00440598,   9.76718998,\n",
       "         9.80858135,  10.19351959,   9.59468746,   9.67243862,\n",
       "         9.29549503,   9.46729946,   9.01611996,   9.58925343], dtype=float32)"
      ]
     },
     "execution_count": 12,
     "metadata": {},
     "output_type": "execute_result"
    }
   ],
   "source": [
    "%%time\n",
    "predictValues(\"SLR_UPDRS_004\", testData)"
   ]
  },
  {
   "cell_type": "code",
   "execution_count": 13,
   "metadata": {
    "collapsed": false
   },
   "outputs": [
    {
     "name": "stderr",
     "output_type": "stream",
     "text": [
      "WARNING:tensorflow:Using default config.\n",
      "WARNING:tensorflow:Calling predict (from tensorflow.contrib.learn.python.learn.estimators.estimator) with as_iterable=False is deprecated and will be removed after 2016-09-15.\n",
      "Instructions for updating:\n",
      "The default behavior of predict() is changing. The default value for\n",
      "as_iterable will change to True, and then the flag will be removed\n",
      "altogether. The behavior of this flag is described below.\n"
     ]
    },
    {
     "name": "stdout",
     "output_type": "stream",
     "text": [
      "CPU times: user 74.4 ms, sys: 3.21 ms, total: 77.6 ms\n",
      "Wall time: 77.2 ms\n"
     ]
    },
    {
     "data": {
      "text/plain": [
       "array([ 10.12992859,  11.63660049,  11.09392166,  13.16503429,\n",
       "        13.42690182,  12.46626568,  10.84868622,  10.25620079,\n",
       "         9.4499588 ,  12.97682571,  11.42319679,  12.10482979,\n",
       "         9.93821716,  14.40267754,   9.49258995,   5.4149971 ,\n",
       "         9.38891888,   9.04293442,   7.18389368,   9.06473827,\n",
       "        12.30064964,   7.25803614,   9.63912201,  13.01989937,\n",
       "         7.32932711,   8.5105505 ,  14.1109972 ,  17.27428818,\n",
       "         9.01781178,  12.36394596,   6.94590712,   9.48592758,\n",
       "         7.17932749,   9.92714405,   9.95744991,  10.93894196,\n",
       "         8.80636501,   8.88370228,   8.12825394,   9.94732857,\n",
       "         9.78580475,   8.99827385,  12.59344959,  11.19831467,\n",
       "        12.72230339,  11.521451  ,  10.15033054,  12.2167635 ,\n",
       "        11.33331394,   9.79965401,  10.81504154,  11.7452507 ,\n",
       "        10.30544376,  10.53654099,  10.52593803,  10.52593803,\n",
       "        12.29662895,   9.38390732,  10.44731426,   8.86032486,\n",
       "         9.6654377 ,   9.56851387,   9.69787216,  10.63942242,\n",
       "        10.14300251,  10.13365555,   8.26159191,   8.87112427,\n",
       "         8.42636395,  12.01201916,  11.887537  ,  10.93230915,\n",
       "         9.57666397,   9.67039394,  10.52676487,  10.1281786 ,\n",
       "        10.01751232,  10.18983173,   9.58554459,  10.00854492,\n",
       "         9.39836788,  12.16336823,  12.16559124,  11.85640717,\n",
       "         9.51718903,   9.49999619,  10.486063  ,  10.82709312,\n",
       "        10.18789101,  10.67240047,   7.41722631,   7.7699132 ,\n",
       "         8.64877415,   8.44416523,  10.24002361,  10.3265667 ,\n",
       "         8.76129627,  11.12284851,  11.31669426,  12.39694405,\n",
       "        11.42935181,  10.23181725,  11.12410736,  10.44941425,\n",
       "        11.3172617 ,  12.17154121,  12.78060055,  12.72631264,\n",
       "        10.79142475,  12.80102444,  11.77835274,  11.01415443,\n",
       "        13.60252571,  12.38719082,   8.709795  ,   7.03931475,\n",
       "         9.35993576,  11.08796501,  11.11650181,  11.83666706,\n",
       "         9.85441208,  10.57736588,  10.24262142,  11.87752724,\n",
       "        11.43790722,   9.47119236,   8.67760563,   8.38472652,\n",
       "         8.74640656,  11.90667439,  11.34311867,  12.13072014,\n",
       "        11.90411758,  10.49815559,  10.89352798,  10.16994953,\n",
       "        12.50009346,  11.06939793,   5.17781544,   8.22443485,\n",
       "         7.36858225,   8.69579792,   9.26575565,  10.13297749,\n",
       "         7.59378386,   8.01410484,   8.58929157,   8.95861244,\n",
       "         9.56583214,   9.69417763,  10.04314518,  10.26459885,\n",
       "        11.18595505,  13.92205811,  13.95195103,  13.1597414 ,\n",
       "         9.57127953,   9.60416126,  12.24788857,  11.02278996,\n",
       "        11.00149059,  11.26294231,  10.6836586 ,  10.60615635,\n",
       "        10.18720627,  10.45408726,  10.10606289,  10.78389931], dtype=float32)"
      ]
     },
     "execution_count": 13,
     "metadata": {},
     "output_type": "execute_result"
    }
   ],
   "source": [
    "%%time\n",
    "predictValues(\"SLR_UPDRS_001\", testData)"
   ]
  },
  {
   "cell_type": "code",
   "execution_count": null,
   "metadata": {
    "collapsed": true
   },
   "outputs": [],
   "source": []
  }
 ],
 "metadata": {
  "anaconda-cloud": {},
  "kernelspec": {
   "display_name": "Python [Root]",
   "language": "python",
   "name": "Python [Root]"
  },
  "language_info": {
   "codemirror_mode": {
    "name": "ipython",
    "version": 2
   },
   "file_extension": ".py",
   "mimetype": "text/x-python",
   "name": "python",
   "nbconvert_exporter": "python",
   "pygments_lexer": "ipython2",
   "version": "2.7.12"
  }
 },
 "nbformat": 4,
 "nbformat_minor": 0
}
