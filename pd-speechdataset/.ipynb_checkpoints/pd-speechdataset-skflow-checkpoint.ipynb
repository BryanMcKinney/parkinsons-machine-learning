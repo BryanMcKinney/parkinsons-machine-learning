{
 "cells": [
  {
   "cell_type": "markdown",
   "metadata": {},
   "source": [
    "https://archive.ics.uci.edu/ml/datasets/Parkinson+Speech+Dataset+with++Multiple+Types+of+Sound+Recordings"
   ]
  },
  {
   "cell_type": "markdown",
   "metadata": {},
   "source": [
    "https://en.wikipedia.org/wiki/Unified_Parkinson's_disease_rating_scale"
   ]
  },
  {
   "cell_type": "markdown",
   "metadata": {},
   "source": [
    "Attribute information\n",
    "* column 1: Subject id \n",
    "* colum 2-27: features \n",
    "* features 1-5: Jitter (local),Jitter (local, absolute),Jitter (rap),Jitter (ppq5),Jitter (ddp), \n",
    "* features 6-11: Shimmer (local),Shimmer (local, dB),Shimmer (apq3),Shimmer (apq5), Shimmer (apq11),Shimmer (dda), \n",
    "* features 12-14: AC,NTH,HTN, \n",
    "* features 15-19: Median pitch,Mean pitch,Standard deviation,Minimum pitch,Maximum pitch, \n",
    "* features 20-23: Number of pulses,Number of periods,Mean period,Standard deviation of period, \n",
    "* features 24-26: Fraction of locally unvoiced frames,Number of voice breaks,Degree of voice breaks \n",
    "* column 28: UPDRS (NOT IN TEST)\n",
    "* column 29: class information "
   ]
  },
  {
   "cell_type": "markdown",
   "metadata": {},
   "source": [
    "Training Dataset \n",
    "\n",
    "Each subject has 26 voice samples including sustained vowels, numbers, words and short sentences. The voice samples in the training data file are given in the following order: \n",
    "* sample# - corresponding voice samples \n",
    "* 1: sustained vowel (aaaâ€¦â€¦) \n",
    "* 2: sustained vowel (oooâ€¦...) \n",
    "* 3: sustained vowel (uuuâ€¦...) \n",
    "* 4-13: numbers from 1 to 10 \n",
    "* 14-17: short sentences \n",
    "* 18-26: words "
   ]
  },
  {
   "cell_type": "markdown",
   "metadata": {},
   "source": [
    "Test Dataset\n",
    "\n",
    "28 PD patients are asked to say only the sustained vowels 'a' and 'o' three times respectively which makes a total of 168 recordings (each subject has 6 voice samples). The voice samples in the test data file are given in the following order: \n",
    "\n",
    "sample# - corresponding voice samples \n",
    "* 1-3: sustained vowel (aaaâ€¦â€¦) \n",
    "* 4-6: sustained vowel (oooâ€¦â€¦) \n"
   ]
  },
  {
   "cell_type": "markdown",
   "metadata": {},
   "source": [
    "### Configuration of Notebook"
   ]
  },
  {
   "cell_type": "code",
   "execution_count": 3,
   "metadata": {
    "collapsed": true
   },
   "outputs": [],
   "source": [
    "import pandas as pd\n",
    "import tensorflow as tf\n",
    "import tempfile\n",
    "import tensorflow.contrib.learn.python.learn as skflow\n",
    "from sklearn import datasets, metrics\n",
    "import numpy as np"
   ]
  },
  {
   "cell_type": "markdown",
   "metadata": {},
   "source": [
    "### Load Datasets"
   ]
  },
  {
   "cell_type": "code",
   "execution_count": 4,
   "metadata": {
    "collapsed": true
   },
   "outputs": [],
   "source": [
    "# Initialize Variables\n",
    "num_runs = 1 # run once, but have infrastructure built for multiple statistical runs\n",
    "nSteps = 100000 # increase these\n",
    "\n",
    "LABEL_COLUMN = \"class_information\"\n",
    "CLASSIFIER_TYPE = \"SLR\""
   ]
  },
  {
   "cell_type": "code",
   "execution_count": 8,
   "metadata": {
    "collapsed": false
   },
   "outputs": [],
   "source": [
    "COLUMN_NAMES = [\"subject_id\", \"jitter_local\", \"jitter_local_absolute\", \"jitter_rap\", \"jitter_ppq5\",\n",
    "                 \"jitter_ddp\",\"shimmer_local\",\"shimmer_local_db\",\"shimmer_apq3\",\"shimmer_apq5\",\n",
    "                 \"shimmer_apq11\",\"shimmer_dda\",\"ac\",\"nth\",\"htn\",\"pitch_median\",\"pitch_mean\",\"pitch_stddev\",\n",
    "                 \"pitch_min\",\"pitch_max\",\"number_of_pulses\", \"number_of_periods\", \"period_mean\",\n",
    "                 \"period_stddev\",\"locally_unvoiced_frames_fraction\",\"number_of_voice_breaks\",\n",
    "                 \"degree_of_voice_breaks\",\"updrs\",\"class_information\"]\n",
    "\n",
    "df_train = pd.read_csv('data/train_data.txt', names = COLUMN_NAMES,header=None)\n",
    "\n",
    "# test columns are the same but doesn't contain \"UPDRS\"\n",
    "COLUMN_NAMES.remove(\"updrs\")\n",
    "df_test = pd.read_csv('data/test_data.txt', names = COLUMN_NAMES,header=None)\n",
    "\n",
    "COLUMN_NAMES.remove(\"class_information\")\n",
    "COLUMN_NAMES.remove(\"subject_id\")"
   ]
  },
  {
   "cell_type": "markdown",
   "metadata": {},
   "source": [
    "### Function Definitions"
   ]
  },
  {
   "cell_type": "code",
   "execution_count": 12,
   "metadata": {
    "collapsed": false
   },
   "outputs": [],
   "source": [
    "def get_data():\n",
    "    ### Only grab data that has the classification we want\n",
    "    if LABEL_COLUMN == \"updrs\": \n",
    "        df = df_train\n",
    "    else: \n",
    "        df = df_train.append(df_test)\n",
    "    return df\n",
    "\n",
    "def convert_data():\n",
    "    df = get_data()\n",
    "    ### Converting Data into Tensors\n",
    "    X = np.array(df[COLUMN_NAMES].iloc[:,]).astype(np.float32)\n",
    "    ### Reduce Labels to discrete values\n",
    "    if CLASSIFIER_TYPE == \"SLR\": \n",
    "        Y = np.array(df[LABEL_COLUMN].iloc[:,]).astype(np.float32)\n",
    "    else:\n",
    "        labels = list(set(df[LABEL_COLUMN]))\n",
    "        Y = np.array([labels.index(x) for x in df[LABEL_COLUMN]]).astype(np.float32)\n",
    "        \n",
    "    feature_columns = skflow.infer_real_valued_columns_from_input(X)\n",
    "    return X, Y, feature_columns\n",
    "\n",
    "def slice_data():\n",
    "    ### slice data\n",
    "    df = get_data()\n",
    "    randomInd = np.random.permutation(df.shape[0]) # number of records (1040+168)\n",
    "    mid = int(.7*df.shape[0]) # ~70% for train, and 30% for testing\n",
    "    trainidx = randomInd[:mid]\n",
    "    testidx = randomInd[mid:]\n",
    "    labelcats = df[LABEL_COLUMN].unique().shape[0]+1\n",
    "    return trainidx, testidx,labelcats"
   ]
  },
  {
   "cell_type": "markdown",
   "metadata": {},
   "source": [
    "### Model 1 - Deep Neural Network, class_information label"
   ]
  },
  {
   "cell_type": "code",
   "execution_count": 13,
   "metadata": {
    "collapsed": false
   },
   "outputs": [
    {
     "name": "stderr",
     "output_type": "stream",
     "text": [
      "WARNING:tensorflow:Using default config.\n"
     ]
    }
   ],
   "source": [
    "LABEL_COLUMN = \"class_information\"\n",
    "X, Y, feature_columns = convert_data()\n",
    "trainidx, testidx, labelcats = slice_data()\n",
    "    \n",
    "classifier = skflow.DNNClassifier(\n",
    "    hidden_units=[48, 24, 24], \n",
    "    n_classes= labelcats, # set to be the number of distinct categories of labels\n",
    "    feature_columns=feature_columns,\n",
    "    enable_centered_bias=False,\n",
    "    model_dir='models/SpeechDataset/DNN/'+LABEL_COLUMN+\"_model_1\")"
   ]
  },
  {
   "cell_type": "code",
   "execution_count": 14,
   "metadata": {
    "collapsed": false
   },
   "outputs": [
    {
     "name": "stderr",
     "output_type": "stream",
     "text": [
      "WARNING:tensorflow:Calling predict (from tensorflow.contrib.learn.python.learn.estimators.dnn) with as_iterable=False is deprecated and will be removed after 2016-09-15.\n",
      "Instructions for updating:\n",
      "The default behavior of predict() is changing. The default value for\n",
      "as_iterable will change to True, and then the flag will be removed\n",
      "altogether. The behavior of this flag is described below.\n",
      "WARNING:tensorflow:Calling predict (from tensorflow.contrib.learn.python.learn.estimators.estimator) with as_iterable=False is deprecated and will be removed after 2016-09-15.\n",
      "Instructions for updating:\n",
      "The default behavior of predict() is changing. The default value for\n",
      "as_iterable will change to True, and then the flag will be removed\n",
      "altogether. The behavior of this flag is described below.\n"
     ]
    },
    {
     "name": "stdout",
     "output_type": "stream",
     "text": [
      "0.661157024793\n"
     ]
    }
   ],
   "source": [
    "### Fit Model\n",
    "classifier.fit(X[trainidx,:], Y[trainidx].astype(np.int), steps=300)\n",
    "\n",
    "### Evaluate Model\n",
    "y_p=classifier.predict(X[testidx,:])\n",
    "y_t=Y[testidx]\n",
    "print metrics.accuracy_score(y_t, y_p)"
   ]
  },
  {
   "cell_type": "code",
   "execution_count": 15,
   "metadata": {
    "collapsed": false
   },
   "outputs": [
    {
     "name": "stderr",
     "output_type": "stream",
     "text": [
      "WARNING:tensorflow:Given features: Tensor(\"input:0\", shape=(?, 26), dtype=float32), required signatures: TensorSignature(dtype=tf.float32, shape=TensorShape([Dimension(None), Dimension(26)]), is_sparse=False).\n",
      "WARNING:tensorflow:Given targets: Tensor(\"output:0\", shape=(?,), dtype=int64), required signatures: TensorSignature(dtype=tf.int64, shape=TensorShape([Dimension(None)]), is_sparse=False).\n",
      "WARNING:tensorflow:Calling predict (from tensorflow.contrib.learn.python.learn.estimators.dnn) with as_iterable=False is deprecated and will be removed after 2016-09-15.\n",
      "Instructions for updating:\n",
      "The default behavior of predict() is changing. The default value for\n",
      "as_iterable will change to True, and then the flag will be removed\n",
      "altogether. The behavior of this flag is described below.\n",
      "WARNING:tensorflow:Calling predict (from tensorflow.contrib.learn.python.learn.estimators.estimator) with as_iterable=False is deprecated and will be removed after 2016-09-15.\n",
      "Instructions for updating:\n",
      "The default behavior of predict() is changing. The default value for\n",
      "as_iterable will change to True, and then the flag will be removed\n",
      "altogether. The behavior of this flag is described below.\n"
     ]
    },
    {
     "name": "stdout",
     "output_type": "stream",
     "text": [
      "0.67217630854\n"
     ]
    }
   ],
   "source": [
    "### Fit Model\n",
    "classifier.fit(X[trainidx,:], Y[trainidx].astype(np.int), steps=300)\n",
    "\n",
    "### Evaluate Model\n",
    "y_p=classifier.predict(X[testidx,:])\n",
    "y_t=Y[testidx]\n",
    "print metrics.accuracy_score(y_t, y_p)"
   ]
  },
  {
   "cell_type": "code",
   "execution_count": 16,
   "metadata": {
    "collapsed": false
   },
   "outputs": [
    {
     "name": "stderr",
     "output_type": "stream",
     "text": [
      "WARNING:tensorflow:Given features: Tensor(\"input:0\", shape=(?, 26), dtype=float32), required signatures: TensorSignature(dtype=tf.float32, shape=TensorShape([Dimension(None), Dimension(26)]), is_sparse=False).\n",
      "WARNING:tensorflow:Given targets: Tensor(\"output:0\", shape=(?,), dtype=int64), required signatures: TensorSignature(dtype=tf.int64, shape=TensorShape([Dimension(None)]), is_sparse=False).\n",
      "WARNING:tensorflow:Calling predict (from tensorflow.contrib.learn.python.learn.estimators.dnn) with as_iterable=False is deprecated and will be removed after 2016-09-15.\n",
      "Instructions for updating:\n",
      "The default behavior of predict() is changing. The default value for\n",
      "as_iterable will change to True, and then the flag will be removed\n",
      "altogether. The behavior of this flag is described below.\n",
      "WARNING:tensorflow:Calling predict (from tensorflow.contrib.learn.python.learn.estimators.estimator) with as_iterable=False is deprecated and will be removed after 2016-09-15.\n",
      "Instructions for updating:\n",
      "The default behavior of predict() is changing. The default value for\n",
      "as_iterable will change to True, and then the flag will be removed\n",
      "altogether. The behavior of this flag is described below.\n"
     ]
    },
    {
     "name": "stdout",
     "output_type": "stream",
     "text": [
      "0.674931129477\n"
     ]
    }
   ],
   "source": [
    "### Fit Model\n",
    "classifier.fit(X[trainidx,:], Y[trainidx].astype(np.int), steps=1000)\n",
    "\n",
    "### Evaluate Model\n",
    "y_p=classifier.predict(X[testidx,:])\n",
    "y_t=Y[testidx]\n",
    "print metrics.accuracy_score(y_t, y_p)"
   ]
  },
  {
   "cell_type": "markdown",
   "metadata": {},
   "source": [
    "### Model 2 - Deep Neural Network, UPDRS label"
   ]
  },
  {
   "cell_type": "code",
   "execution_count": 21,
   "metadata": {
    "collapsed": false
   },
   "outputs": [
    {
     "name": "stderr",
     "output_type": "stream",
     "text": [
      "WARNING:tensorflow:Using default config.\n"
     ]
    }
   ],
   "source": [
    "LABEL_COLUMN = \"updrs\"\n",
    "CLASSIFIER_TYPE = \"DNN\"\n",
    "\n",
    "X, Y, feature_columns = convert_data()\n",
    "trainidx, testidx, labelcats = slice_data()\n",
    "    \n",
    "classifier = skflow.DNNClassifier(\n",
    "    hidden_units=[48, 24, 24], \n",
    "    n_classes= labelcats, # set to be the number of distinct categories of labels\n",
    "    feature_columns=feature_columns,\n",
    "    enable_centered_bias=False,\n",
    "    model_dir='models/SpeechDataset/DNN/'+LABEL_COLUMN+\"_model_1\")"
   ]
  },
  {
   "cell_type": "code",
   "execution_count": 22,
   "metadata": {
    "collapsed": false
   },
   "outputs": [
    {
     "name": "stderr",
     "output_type": "stream",
     "text": [
      "WARNING:tensorflow:Calling predict (from tensorflow.contrib.learn.python.learn.estimators.dnn) with as_iterable=False is deprecated and will be removed after 2016-09-15.\n",
      "Instructions for updating:\n",
      "The default behavior of predict() is changing. The default value for\n",
      "as_iterable will change to True, and then the flag will be removed\n",
      "altogether. The behavior of this flag is described below.\n",
      "WARNING:tensorflow:Calling predict (from tensorflow.contrib.learn.python.learn.estimators.estimator) with as_iterable=False is deprecated and will be removed after 2016-09-15.\n",
      "Instructions for updating:\n",
      "The default behavior of predict() is changing. The default value for\n",
      "as_iterable will change to True, and then the flag will be removed\n",
      "altogether. The behavior of this flag is described below.\n"
     ]
    },
    {
     "name": "stdout",
     "output_type": "stream",
     "text": [
      "0.509615384615\n"
     ]
    }
   ],
   "source": [
    "### Fit Model\n",
    "classifier.fit(X[trainidx,:], Y[trainidx].astype(np.int), steps=1000)\n",
    "\n",
    "### Evaluate Model\n",
    "y_p=classifier.predict(X[testidx,:])\n",
    "y_t=Y[testidx]\n",
    "print metrics.accuracy_score(y_t, y_p)"
   ]
  },
  {
   "cell_type": "code",
   "execution_count": 23,
   "metadata": {
    "collapsed": false
   },
   "outputs": [
    {
     "name": "stderr",
     "output_type": "stream",
     "text": [
      "WARNING:tensorflow:Given features: Tensor(\"input:0\", shape=(?, 26), dtype=float32), required signatures: TensorSignature(dtype=tf.float32, shape=TensorShape([Dimension(None), Dimension(26)]), is_sparse=False).\n",
      "WARNING:tensorflow:Given targets: Tensor(\"output:0\", shape=(?,), dtype=int64), required signatures: TensorSignature(dtype=tf.int64, shape=TensorShape([Dimension(None)]), is_sparse=False).\n",
      "WARNING:tensorflow:Calling predict (from tensorflow.contrib.learn.python.learn.estimators.dnn) with as_iterable=False is deprecated and will be removed after 2016-09-15.\n",
      "Instructions for updating:\n",
      "The default behavior of predict() is changing. The default value for\n",
      "as_iterable will change to True, and then the flag will be removed\n",
      "altogether. The behavior of this flag is described below.\n",
      "WARNING:tensorflow:Calling predict (from tensorflow.contrib.learn.python.learn.estimators.estimator) with as_iterable=False is deprecated and will be removed after 2016-09-15.\n",
      "Instructions for updating:\n",
      "The default behavior of predict() is changing. The default value for\n",
      "as_iterable will change to True, and then the flag will be removed\n",
      "altogether. The behavior of this flag is described below.\n"
     ]
    },
    {
     "name": "stdout",
     "output_type": "stream",
     "text": [
      "0.512820512821\n"
     ]
    }
   ],
   "source": [
    "### Fit Model\n",
    "classifier.fit(X[trainidx,:], Y[trainidx].astype(np.int), steps=1000)\n",
    "\n",
    "### Evaluate Model\n",
    "y_p=classifier.predict(X[testidx,:])\n",
    "y_t=Y[testidx]\n",
    "print metrics.accuracy_score(y_t, y_p)"
   ]
  },
  {
   "cell_type": "code",
   "execution_count": 24,
   "metadata": {
    "collapsed": false
   },
   "outputs": [
    {
     "name": "stderr",
     "output_type": "stream",
     "text": [
      "WARNING:tensorflow:Given features: Tensor(\"input:0\", shape=(?, 26), dtype=float32), required signatures: TensorSignature(dtype=tf.float32, shape=TensorShape([Dimension(None), Dimension(26)]), is_sparse=False).\n",
      "WARNING:tensorflow:Given targets: Tensor(\"output:0\", shape=(?,), dtype=int64), required signatures: TensorSignature(dtype=tf.int64, shape=TensorShape([Dimension(None)]), is_sparse=False).\n",
      "WARNING:tensorflow:Calling predict (from tensorflow.contrib.learn.python.learn.estimators.dnn) with as_iterable=False is deprecated and will be removed after 2016-09-15.\n",
      "Instructions for updating:\n",
      "The default behavior of predict() is changing. The default value for\n",
      "as_iterable will change to True, and then the flag will be removed\n",
      "altogether. The behavior of this flag is described below.\n",
      "WARNING:tensorflow:Calling predict (from tensorflow.contrib.learn.python.learn.estimators.estimator) with as_iterable=False is deprecated and will be removed after 2016-09-15.\n",
      "Instructions for updating:\n",
      "The default behavior of predict() is changing. The default value for\n",
      "as_iterable will change to True, and then the flag will be removed\n",
      "altogether. The behavior of this flag is described below.\n"
     ]
    },
    {
     "name": "stdout",
     "output_type": "stream",
     "text": [
      "0.5\n"
     ]
    }
   ],
   "source": [
    "### Fit Model\n",
    "classifier.fit(X[trainidx,:], Y[trainidx].astype(np.int), steps=1000)\n",
    "\n",
    "### Evaluate Model\n",
    "y_p=classifier.predict(X[testidx,:])\n",
    "y_t=Y[testidx]\n",
    "print metrics.accuracy_score(y_t, y_p)"
   ]
  },
  {
   "cell_type": "markdown",
   "metadata": {},
   "source": [
    "### Model 3 - Simple Linear Regression, UPDRS label"
   ]
  },
  {
   "cell_type": "code",
   "execution_count": 27,
   "metadata": {
    "collapsed": false
   },
   "outputs": [
    {
     "name": "stderr",
     "output_type": "stream",
     "text": [
      "WARNING:tensorflow:Using default config.\n"
     ]
    }
   ],
   "source": [
    "LABEL_COLUMN = \"updrs\"\n",
    "CLASSIFIER_TYPE = \"SLR\"\n",
    "\n",
    "X, Y, feature_columns = convert_data()\n",
    "trainidx, testidx, labelcats = slice_data()\n",
    "\n",
    "### Define classifier - Simple Linear Regression\n",
    "classifier = skflow.LinearRegressor(\n",
    "    feature_columns=feature_columns,\n",
    "    model_dir='models/SpeechDataset/SLR/'+LABEL_COLUMN+\"_model_3\",\n",
    "    enable_centered_bias=False)"
   ]
  },
  {
   "cell_type": "code",
   "execution_count": 28,
   "metadata": {
    "collapsed": false
   },
   "outputs": [
    {
     "name": "stderr",
     "output_type": "stream",
     "text": [
      "WARNING:tensorflow:Calling predict (from tensorflow.contrib.learn.python.learn.estimators.estimator) with as_iterable=False is deprecated and will be removed after 2016-09-15.\n",
      "Instructions for updating:\n",
      "The default behavior of predict() is changing. The default value for\n",
      "as_iterable will change to True, and then the flag will be removed\n",
      "altogether. The behavior of this flag is described below.\n"
     ]
    },
    {
     "name": "stdout",
     "output_type": "stream",
     "text": [
      "0.882544982128\n"
     ]
    }
   ],
   "source": [
    "%%time\n",
    "### Fit Model\n",
    "classifier.fit(X[trainidx,:], Y[trainidx].astype(np.int), steps=1000)\n",
    "\n",
    "### Evaluate Model\n",
    "y_p=classifier.predict(X[testidx,:])\n",
    "y_t=Y[testidx]\n",
    "\n",
    "print np.linalg.norm(y_t-y_p)/y_t.shape[0]"
   ]
  },
  {
   "cell_type": "code",
   "execution_count": 29,
   "metadata": {
    "collapsed": false
   },
   "outputs": [
    {
     "name": "stderr",
     "output_type": "stream",
     "text": [
      "WARNING:tensorflow:Given features: Tensor(\"input:0\", shape=(?, 26), dtype=float32), required signatures: TensorSignature(dtype=tf.float32, shape=TensorShape([Dimension(None), Dimension(26)]), is_sparse=False).\n",
      "WARNING:tensorflow:Given targets: Tensor(\"output:0\", shape=(?,), dtype=int64), required signatures: TensorSignature(dtype=tf.int64, shape=TensorShape([Dimension(None)]), is_sparse=False).\n",
      "WARNING:tensorflow:Calling predict (from tensorflow.contrib.learn.python.learn.estimators.estimator) with as_iterable=False is deprecated and will be removed after 2016-09-15.\n",
      "Instructions for updating:\n",
      "The default behavior of predict() is changing. The default value for\n",
      "as_iterable will change to True, and then the flag will be removed\n",
      "altogether. The behavior of this flag is described below.\n"
     ]
    },
    {
     "name": "stdout",
     "output_type": "stream",
     "text": [
      "0.881388248541\n"
     ]
    }
   ],
   "source": [
    "%%time\n",
    "### Fit Model\n",
    "classifier.fit(X[trainidx,:], Y[trainidx].astype(np.int), steps=1000)\n",
    "\n",
    "### Evaluate Model\n",
    "y_p=classifier.predict(X[testidx,:])\n",
    "y_t=Y[testidx]\n",
    "\n",
    "print np.linalg.norm(y_t-y_p)/y_t.shape[0]"
   ]
  },
  {
   "cell_type": "code",
   "execution_count": 30,
   "metadata": {
    "collapsed": false
   },
   "outputs": [
    {
     "name": "stderr",
     "output_type": "stream",
     "text": [
      "WARNING:tensorflow:Given features: Tensor(\"input:0\", shape=(?, 26), dtype=float32), required signatures: TensorSignature(dtype=tf.float32, shape=TensorShape([Dimension(None), Dimension(26)]), is_sparse=False).\n",
      "WARNING:tensorflow:Given targets: Tensor(\"output:0\", shape=(?,), dtype=int64), required signatures: TensorSignature(dtype=tf.int64, shape=TensorShape([Dimension(None)]), is_sparse=False).\n",
      "WARNING:tensorflow:Calling predict (from tensorflow.contrib.learn.python.learn.estimators.estimator) with as_iterable=False is deprecated and will be removed after 2016-09-15.\n",
      "Instructions for updating:\n",
      "The default behavior of predict() is changing. The default value for\n",
      "as_iterable will change to True, and then the flag will be removed\n",
      "altogether. The behavior of this flag is described below.\n"
     ]
    },
    {
     "name": "stdout",
     "output_type": "stream",
     "text": [
      "0.879742451203\n",
      "CPU times: user 12.7 s, sys: 1.31 s, total: 14 s\n",
      "Wall time: 11.8 s\n"
     ]
    }
   ],
   "source": [
    "%%time\n",
    "### Fit Model\n",
    "classifier.fit(X[trainidx,:], Y[trainidx].astype(np.int), steps=5000)\n",
    "\n",
    "### Evaluate Model\n",
    "y_p=classifier.predict(X[testidx,:])\n",
    "y_t=Y[testidx]\n",
    "\n",
    "print np.linalg.norm(y_t-y_p)/y_t.shape[0]"
   ]
  },
  {
   "cell_type": "code",
   "execution_count": 33,
   "metadata": {
    "collapsed": false
   },
   "outputs": [
    {
     "name": "stderr",
     "output_type": "stream",
     "text": [
      "WARNING:tensorflow:Using default config.\n",
      "WARNING:tensorflow:Calling predict (from tensorflow.contrib.learn.python.learn.estimators.estimator) with as_iterable=False is deprecated and will be removed after 2016-09-15.\n",
      "Instructions for updating:\n",
      "The default behavior of predict() is changing. The default value for\n",
      "as_iterable will change to True, and then the flag will be removed\n",
      "altogether. The behavior of this flag is described below.\n"
     ]
    },
    {
     "name": "stdout",
     "output_type": "stream",
     "text": [
      "[ 14.26342964]\n"
     ]
    }
   ],
   "source": [
    "classifier = skflow.LinearRegressor(\n",
    "    feature_columns=feature_columns,\n",
    "    model_dir='models/SpeechDataset/SLR/'+LABEL_COLUMN+\"_model_3\",\n",
    "    enable_centered_bias=False)\n",
    "\n",
    "### Implement Model\n",
    "y_p=classifier.predict(X[4,:])\n",
    "print y_p"
   ]
  },
  {
   "cell_type": "code",
   "execution_count": null,
   "metadata": {
    "collapsed": true
   },
   "outputs": [],
   "source": []
  }
 ],
 "metadata": {
  "anaconda-cloud": {},
  "kernelspec": {
   "display_name": "Python [Root]",
   "language": "python",
   "name": "Python [Root]"
  },
  "language_info": {
   "codemirror_mode": {
    "name": "ipython",
    "version": 2
   },
   "file_extension": ".py",
   "mimetype": "text/x-python",
   "name": "python",
   "nbconvert_exporter": "python",
   "pygments_lexer": "ipython2",
   "version": "2.7.12"
  }
 },
 "nbformat": 4,
 "nbformat_minor": 0
}
