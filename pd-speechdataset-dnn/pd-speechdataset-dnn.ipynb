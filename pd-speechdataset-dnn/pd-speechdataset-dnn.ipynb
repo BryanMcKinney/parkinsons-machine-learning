{
 "cells": [
  {
   "cell_type": "markdown",
   "metadata": {},
   "source": [
    "## SKFlow Deep Neural Network on Parkinson's Disease Speech Dataset"
   ]
  },
  {
   "cell_type": "markdown",
   "metadata": {},
   "source": [
    "https://archive.ics.uci.edu/ml/datasets/Parkinson+Speech+Dataset+with++Multiple+Types+of+Sound+Recordings"
   ]
  },
  {
   "cell_type": "code",
   "execution_count": 2,
   "metadata": {
    "collapsed": false
   },
   "outputs": [],
   "source": [
    "%matplotlib inline\n",
    "import pandas as pd\n",
    "import tensorflow as tf\n",
    "import tensorflow.contrib.learn.python.learn as skflow\n",
    "from sklearn import datasets, metrics\n",
    "import numpy as np\n",
    "import os.path\n",
    "import pickle\n",
    "\n",
    "import warnings; \n",
    "warnings.simplefilter('ignore')"
   ]
  },
  {
   "cell_type": "code",
   "execution_count": 3,
   "metadata": {
    "collapsed": true
   },
   "outputs": [],
   "source": [
    "### Sets multiple rows for a subject as more feature columns\n",
    "def collapse_data(dataframe,featcol):\n",
    "    newArray = []\n",
    "    for sid in df_data.subject_id.unique():\n",
    "        newArray.append(df_data[df_data.subject_id == sid][featcol].values.flatten().astype(np.float32))\n",
    "    X = np.array(newArray)\n",
    "    df_labels = df_data[[\"subject_id\",\"class_information\"]].drop_duplicates()[\"class_information\"]\n",
    "    Y = np.array(df_labels.iloc[:,]).astype(np.float32)\n",
    "    return X,Y\n",
    "\n",
    "### load or generate random ids for test and training sets\n",
    "def slice_ids(length,run_id):\n",
    "    idfile = \"models/\"+run_id+\"_ids\"\n",
    "    if os.path.isfile(idfile): \n",
    "        ### Re-run model\n",
    "        with open(idfile, 'rb') as fp:\n",
    "            randomInd = pickle.load(fp)\n",
    "    else:\n",
    "        ### First run\n",
    "        randomInd = np.random.permutation(length)\n",
    "        with open(idfile, 'wb') as fp:\n",
    "            pickle.dump(randomInd, fp)\n",
    "    \n",
    "    ###  70% of ids randomly selected for training\n",
    "    ###  30% of ids randomly selected for testing\n",
    "    mid = int(.7*length)\n",
    "    trainidx = randomInd[:mid]\n",
    "    testidx = randomInd[mid:]\n",
    "    return trainidx, testidx\n",
    "\n",
    "def run_DNNClassifier(run_id, steps = 100, hidden_units = [48, 24, 24]):\n",
    "    ### Get Training and Testing indexes\n",
    "    trainidx, testidx = slice_ids(len(X),run_id)\n",
    "\n",
    "    ### Define classifier - DNN\n",
    "    ### model_dir - this is where the model is saved. To re-run use the same runIdentifier\n",
    "    feature_columns = skflow.infer_real_valued_columns_from_input(X)\n",
    "    model = skflow.DNNClassifier(\n",
    "        hidden_units=hidden_units, \n",
    "        n_classes= 3, # set to be the number of distinct categories of labels\n",
    "        feature_columns=feature_columns,\n",
    "        enable_centered_bias=True,\n",
    "        model_dir=\"models/DNN/\"+run_id)\n",
    "    \n",
    "    ### Fit Model\n",
    "    model.fit(X[trainidx,:], \n",
    "              Y[trainidx].astype(np.int), \n",
    "              steps=steps)\n",
    "    \n",
    "    ### Evaluate Model\n",
    "    y_p = model.predict(X[testidx,:])\n",
    "    y_t = Y[testidx]\n",
    "    return metrics.accuracy_score(y_t, y_p)"
   ]
  },
  {
   "cell_type": "markdown",
   "metadata": {},
   "source": [
    "### Load data and convert to tensors"
   ]
  },
  {
   "cell_type": "code",
   "execution_count": 4,
   "metadata": {
    "collapsed": false
   },
   "outputs": [],
   "source": [
    "COLUMN_NAMES = [\"subject_id\", \"jitter_local\", \"jitter_local_absolute\", \"jitter_rap\", \"jitter_ppq5\",\n",
    "                 \"jitter_ddp\",\"shimmer_local\",\"shimmer_local_db\",\"shimmer_apq3\",\"shimmer_apq5\",\n",
    "                 \"shimmer_apq11\",\"shimmer_dda\",\"ac\",\"nth\",\"htn\",\"pitch_median\",\"pitch_mean\",\"pitch_stddev\",\n",
    "                 \"pitch_min\",\"pitch_max\",\"number_of_pulses\", \"number_of_periods\", \"period_mean\",\n",
    "                 \"period_stddev\",\"locally_unvoiced_frames_fraction\",\"number_of_voice_breaks\",\n",
    "                 \"degree_of_voice_breaks\",\"updrs\",\"class_information\"]\n",
    "\n",
    "datafile = \"data/train_data.txt\"\n",
    "df_data = pd.read_csv(datafile, names=COLUMN_NAMES, header=None)\n",
    "\n",
    "### Create list of column names for feature data.\n",
    "featcol = list(df_data.columns.values)\n",
    "featcol.remove(\"subject_id\")\n",
    "featcol.remove(\"class_information\")\n",
    "featcol.remove(\"updrs\")"
   ]
  },
  {
   "cell_type": "code",
   "execution_count": 5,
   "metadata": {
    "collapsed": true
   },
   "outputs": [],
   "source": [
    "### Convert data\n",
    "X, Y = collapse_data(df_data,featcol)"
   ]
  },
  {
   "cell_type": "markdown",
   "metadata": {},
   "source": [
    "### Run Some Different tests"
   ]
  },
  {
   "cell_type": "code",
   "execution_count": 67,
   "metadata": {
    "collapsed": false
   },
   "outputs": [
    {
     "name": "stderr",
     "output_type": "stream",
     "text": [
      "WARNING:tensorflow:Using default config.\n",
      "WARNING:tensorflow:Calling predict (from tensorflow.contrib.learn.python.learn.estimators.dnn) with as_iterable=False is deprecated and will be removed after 2016-09-15.\n",
      "Instructions for updating:\n",
      "The default behavior of predict() is changing. The default value for\n",
      "as_iterable will change to True, and then the flag will be removed\n",
      "altogether. The behavior of this flag is described below.\n",
      "WARNING:tensorflow:Calling predict (from tensorflow.contrib.learn.python.learn.estimators.estimator) with as_iterable=False is deprecated and will be removed after 2016-09-15.\n",
      "Instructions for updating:\n",
      "The default behavior of predict() is changing. The default value for\n",
      "as_iterable will change to True, and then the flag will be removed\n",
      "altogether. The behavior of this flag is described below.\n"
     ]
    },
    {
     "name": "stdout",
     "output_type": "stream",
     "text": [
      "Accuracy: 0.583333333333\n",
      "CPU times: user 24.8 s, sys: 8.71 s, total: 33.5 s\n",
      "Wall time: 18.5 s\n"
     ]
    }
   ],
   "source": [
    "%%time\n",
    "print \"Accuracy: {0}\".format(run_DNNClassifier(\"model_26x26x26x26\",steps=10000,hidden_units=[26,26,26,26]))"
   ]
  },
  {
   "cell_type": "code",
   "execution_count": 68,
   "metadata": {
    "collapsed": false
   },
   "outputs": [
    {
     "name": "stderr",
     "output_type": "stream",
     "text": [
      "WARNING:tensorflow:Using default config.\n",
      "WARNING:tensorflow:Calling predict (from tensorflow.contrib.learn.python.learn.estimators.dnn) with as_iterable=False is deprecated and will be removed after 2016-09-15.\n",
      "Instructions for updating:\n",
      "The default behavior of predict() is changing. The default value for\n",
      "as_iterable will change to True, and then the flag will be removed\n",
      "altogether. The behavior of this flag is described below.\n",
      "WARNING:tensorflow:Calling predict (from tensorflow.contrib.learn.python.learn.estimators.estimator) with as_iterable=False is deprecated and will be removed after 2016-09-15.\n",
      "Instructions for updating:\n",
      "The default behavior of predict() is changing. The default value for\n",
      "as_iterable will change to True, and then the flag will be removed\n",
      "altogether. The behavior of this flag is described below.\n"
     ]
    },
    {
     "name": "stdout",
     "output_type": "stream",
     "text": [
      "Accuracy: 0.416666666667\n",
      "CPU times: user 43.9 s, sys: 9.99 s, total: 53.9 s\n",
      "Wall time: 21.2 s\n"
     ]
    }
   ],
   "source": [
    "%%time\n",
    "print \"Accuracy: {0}\".format(run_DNNClassifier(\"model_100x100x100\",steps=10000,hidden_units=[100,100,100]))"
   ]
  },
  {
   "cell_type": "code",
   "execution_count": 69,
   "metadata": {
    "collapsed": false
   },
   "outputs": [
    {
     "name": "stderr",
     "output_type": "stream",
     "text": [
      "WARNING:tensorflow:Using default config.\n",
      "WARNING:tensorflow:Calling predict (from tensorflow.contrib.learn.python.learn.estimators.dnn) with as_iterable=False is deprecated and will be removed after 2016-09-15.\n",
      "Instructions for updating:\n",
      "The default behavior of predict() is changing. The default value for\n",
      "as_iterable will change to True, and then the flag will be removed\n",
      "altogether. The behavior of this flag is described below.\n",
      "WARNING:tensorflow:Calling predict (from tensorflow.contrib.learn.python.learn.estimators.estimator) with as_iterable=False is deprecated and will be removed after 2016-09-15.\n",
      "Instructions for updating:\n",
      "The default behavior of predict() is changing. The default value for\n",
      "as_iterable will change to True, and then the flag will be removed\n",
      "altogether. The behavior of this flag is described below.\n"
     ]
    },
    {
     "name": "stdout",
     "output_type": "stream",
     "text": [
      "Accuracy: 0.416666666667\n",
      "CPU times: user 39.9 s, sys: 9.66 s, total: 49.6 s\n",
      "Wall time: 19.5 s\n"
     ]
    }
   ],
   "source": [
    "%%time\n",
    "print \"Accuracy: {0}\".format(run_DNNClassifier(\"model_100x26x100\",steps=10000,hidden_units=[100,26,100]))"
   ]
  },
  {
   "cell_type": "code",
   "execution_count": 72,
   "metadata": {
    "collapsed": false
   },
   "outputs": [
    {
     "name": "stderr",
     "output_type": "stream",
     "text": [
      "WARNING:tensorflow:Using default config.\n",
      "WARNING:tensorflow:Calling predict (from tensorflow.contrib.learn.python.learn.estimators.dnn) with as_iterable=False is deprecated and will be removed after 2016-09-15.\n",
      "Instructions for updating:\n",
      "The default behavior of predict() is changing. The default value for\n",
      "as_iterable will change to True, and then the flag will be removed\n",
      "altogether. The behavior of this flag is described below.\n",
      "WARNING:tensorflow:Calling predict (from tensorflow.contrib.learn.python.learn.estimators.estimator) with as_iterable=False is deprecated and will be removed after 2016-09-15.\n",
      "Instructions for updating:\n",
      "The default behavior of predict() is changing. The default value for\n",
      "as_iterable will change to True, and then the flag will be removed\n",
      "altogether. The behavior of this flag is described below.\n"
     ]
    },
    {
     "name": "stdout",
     "output_type": "stream",
     "text": [
      "Accuracy: 0.5\n",
      "CPU times: user 40.4 s, sys: 9.6 s, total: 50 s\n",
      "Wall time: 20 s\n"
     ]
    }
   ],
   "source": [
    "%%time\n",
    "print \"Accuracy: {0}\".format(run_DNNClassifier(\"model_100x26x100_2\",steps=10000,hidden_units=[100,26,100]))"
   ]
  },
  {
   "cell_type": "code",
   "execution_count": 70,
   "metadata": {
    "collapsed": false
   },
   "outputs": [
    {
     "name": "stderr",
     "output_type": "stream",
     "text": [
      "WARNING:tensorflow:Using default config.\n",
      "WARNING:tensorflow:Calling predict (from tensorflow.contrib.learn.python.learn.estimators.dnn) with as_iterable=False is deprecated and will be removed after 2016-09-15.\n",
      "Instructions for updating:\n",
      "The default behavior of predict() is changing. The default value for\n",
      "as_iterable will change to True, and then the flag will be removed\n",
      "altogether. The behavior of this flag is described below.\n",
      "WARNING:tensorflow:Calling predict (from tensorflow.contrib.learn.python.learn.estimators.estimator) with as_iterable=False is deprecated and will be removed after 2016-09-15.\n",
      "Instructions for updating:\n",
      "The default behavior of predict() is changing. The default value for\n",
      "as_iterable will change to True, and then the flag will be removed\n",
      "altogether. The behavior of this flag is described below.\n"
     ]
    },
    {
     "name": "stdout",
     "output_type": "stream",
     "text": [
      "Accuracy: 0.833333333333\n",
      "CPU times: user 22.3 s, sys: 7.73 s, total: 30 s\n",
      "Wall time: 15.9 s\n"
     ]
    }
   ],
   "source": [
    "%%time\n",
    "print \"Accuracy: {0}\".format(run_DNNClassifier(\"model_26\",steps=10000,hidden_units=[26]))"
   ]
  },
  {
   "cell_type": "code",
   "execution_count": 74,
   "metadata": {
    "collapsed": false
   },
   "outputs": [
    {
     "name": "stderr",
     "output_type": "stream",
     "text": [
      "WARNING:tensorflow:Using default config.\n",
      "WARNING:tensorflow:Calling predict (from tensorflow.contrib.learn.python.learn.estimators.dnn) with as_iterable=False is deprecated and will be removed after 2016-09-15.\n",
      "Instructions for updating:\n",
      "The default behavior of predict() is changing. The default value for\n",
      "as_iterable will change to True, and then the flag will be removed\n",
      "altogether. The behavior of this flag is described below.\n",
      "WARNING:tensorflow:Calling predict (from tensorflow.contrib.learn.python.learn.estimators.estimator) with as_iterable=False is deprecated and will be removed after 2016-09-15.\n",
      "Instructions for updating:\n",
      "The default behavior of predict() is changing. The default value for\n",
      "as_iterable will change to True, and then the flag will be removed\n",
      "altogether. The behavior of this flag is described below.\n"
     ]
    },
    {
     "name": "stdout",
     "output_type": "stream",
     "text": [
      "Accuracy: 0.583333333333\n",
      "CPU times: user 21 s, sys: 7.25 s, total: 28.3 s\n",
      "Wall time: 15 s\n"
     ]
    }
   ],
   "source": [
    "%%time\n",
    "print \"Accuracy: {0}\".format(run_DNNClassifier(\"model_26_2\",steps=10000,hidden_units=[26]))"
   ]
  },
  {
   "cell_type": "code",
   "execution_count": 73,
   "metadata": {
    "collapsed": false
   },
   "outputs": [
    {
     "name": "stderr",
     "output_type": "stream",
     "text": [
      "WARNING:tensorflow:Using default config.\n",
      "WARNING:tensorflow:Calling predict (from tensorflow.contrib.learn.python.learn.estimators.dnn) with as_iterable=False is deprecated and will be removed after 2016-09-15.\n",
      "Instructions for updating:\n",
      "The default behavior of predict() is changing. The default value for\n",
      "as_iterable will change to True, and then the flag will be removed\n",
      "altogether. The behavior of this flag is described below.\n",
      "WARNING:tensorflow:Calling predict (from tensorflow.contrib.learn.python.learn.estimators.estimator) with as_iterable=False is deprecated and will be removed after 2016-09-15.\n",
      "Instructions for updating:\n",
      "The default behavior of predict() is changing. The default value for\n",
      "as_iterable will change to True, and then the flag will be removed\n",
      "altogether. The behavior of this flag is described below.\n"
     ]
    },
    {
     "name": "stdout",
     "output_type": "stream",
     "text": [
      "Accuracy: 0.583333333333\n",
      "CPU times: user 36.6 s, sys: 9.29 s, total: 45.9 s\n",
      "Wall time: 16.9 s\n"
     ]
    }
   ],
   "source": [
    "%%time\n",
    "print \"Accuracy: {0}\".format(run_DNNClassifier(\"model_100\",steps=10000,hidden_units=[100]))"
   ]
  },
  {
   "cell_type": "code",
   "execution_count": 71,
   "metadata": {
    "collapsed": false,
    "scrolled": false
   },
   "outputs": [
    {
     "name": "stderr",
     "output_type": "stream",
     "text": [
      "WARNING:tensorflow:Using default config.\n",
      "WARNING:tensorflow:Calling predict (from tensorflow.contrib.learn.python.learn.estimators.dnn) with as_iterable=False is deprecated and will be removed after 2016-09-15.\n",
      "Instructions for updating:\n",
      "The default behavior of predict() is changing. The default value for\n",
      "as_iterable will change to True, and then the flag will be removed\n",
      "altogether. The behavior of this flag is described below.\n",
      "WARNING:tensorflow:Calling predict (from tensorflow.contrib.learn.python.learn.estimators.estimator) with as_iterable=False is deprecated and will be removed after 2016-09-15.\n",
      "Instructions for updating:\n",
      "The default behavior of predict() is changing. The default value for\n",
      "as_iterable will change to True, and then the flag will be removed\n",
      "altogether. The behavior of this flag is described below.\n"
     ]
    },
    {
     "name": "stdout",
     "output_type": "stream",
     "text": [
      "Accuracy: 0.25\n",
      "CPU times: user 21.1 s, sys: 8.63 s, total: 29.8 s\n",
      "Wall time: 16.2 s\n"
     ]
    }
   ],
   "source": [
    "%%time\n",
    "print \"Accuracy: {0}\".format(run_DNNClassifier(\"model_4x4\",steps=10000,hidden_units=[4,4]))"
   ]
  },
  {
   "cell_type": "markdown",
   "metadata": {},
   "source": [
    "### Test to see how shape of the graph affects accuracy"
   ]
  },
  {
   "cell_type": "code",
   "execution_count": 9,
   "metadata": {
    "collapsed": false,
    "scrolled": true
   },
   "outputs": [
    {
     "name": "stdout",
     "output_type": "stream",
     "text": [
      "Traceback (most recent call last):\n",
      "  File \"/Users/tgarske/anaconda/lib/python2.7/site-packages/IPython/core/ultratb.py\", line 1120, in get_records\n",
      "  File \"/Users/tgarske/anaconda/lib/python2.7/site-packages/IPython/core/ultratb.py\", line 301, in wrapped\n",
      "  File \"/Users/tgarske/anaconda/lib/python2.7/site-packages/IPython/core/ultratb.py\", line 346, in _fixed_getinnerframes\n",
      "  File \"/Users/tgarske/anaconda/lib/python2.7/inspect.py\", line 1049, in getinnerframes\n",
      "  File \"/Users/tgarske/anaconda/lib/python2.7/inspect.py\", line 1009, in getframeinfo\n",
      "  File \"/Users/tgarske/anaconda/lib/python2.7/inspect.py\", line 454, in getsourcefile\n",
      "  File \"/Users/tgarske/anaconda/lib/python2.7/inspect.py\", line 483, in getmodule\n",
      "  File \"/Users/tgarske/anaconda/lib/python2.7/inspect.py\", line 467, in getabsfile\n",
      "  File \"/Users/tgarske/anaconda/lib/python2.7/posixpath.py\", line 364, in abspath\n",
      "OSError: [Errno 24] Too many open files\n"
     ]
    },
    {
     "name": "stderr",
     "output_type": "stream",
     "text": [
      "ERROR: Internal Python error in the inspect module.\n",
      "Below is the traceback from this internal error.\n",
      "\n",
      "\n",
      "Unfortunately, your original traceback can not be constructed.\n",
      "\n"
     ]
    },
    {
     "ename": "IndexError",
     "evalue": "string index out of range",
     "output_type": "error",
     "traceback": [
      "\u001b[0;31m---------------------------------------------------------------------------\u001b[0m",
      "\u001b[0;31mIndexError\u001b[0m                                Traceback (most recent call last)",
      "\u001b[0;32m/Users/tgarske/anaconda/lib/python2.7/site-packages/IPython/core/interactiveshell.pyc\u001b[0m in \u001b[0;36mrun_code\u001b[0;34m(self, code_obj, result)\u001b[0m\n\u001b[1;32m   2900\u001b[0m             \u001b[0;32mif\u001b[0m \u001b[0mresult\u001b[0m \u001b[0;32mis\u001b[0m \u001b[0;32mnot\u001b[0m \u001b[0mNone\u001b[0m\u001b[0;34m:\u001b[0m\u001b[0;34m\u001b[0m\u001b[0m\n\u001b[1;32m   2901\u001b[0m                 \u001b[0mresult\u001b[0m\u001b[0;34m.\u001b[0m\u001b[0merror_in_exec\u001b[0m \u001b[0;34m=\u001b[0m \u001b[0msys\u001b[0m\u001b[0;34m.\u001b[0m\u001b[0mexc_info\u001b[0m\u001b[0;34m(\u001b[0m\u001b[0;34m)\u001b[0m\u001b[0;34m[\u001b[0m\u001b[0;36m1\u001b[0m\u001b[0;34m]\u001b[0m\u001b[0;34m\u001b[0m\u001b[0m\n\u001b[0;32m-> 2902\u001b[0;31m             \u001b[0mself\u001b[0m\u001b[0;34m.\u001b[0m\u001b[0mshowtraceback\u001b[0m\u001b[0;34m(\u001b[0m\u001b[0;34m)\u001b[0m\u001b[0;34m\u001b[0m\u001b[0m\n\u001b[0m\u001b[1;32m   2903\u001b[0m         \u001b[0;32melse\u001b[0m\u001b[0;34m:\u001b[0m\u001b[0;34m\u001b[0m\u001b[0m\n\u001b[1;32m   2904\u001b[0m             \u001b[0moutflag\u001b[0m \u001b[0;34m=\u001b[0m \u001b[0;36m0\u001b[0m\u001b[0;34m\u001b[0m\u001b[0m\n",
      "\u001b[0;32m/Users/tgarske/anaconda/lib/python2.7/site-packages/IPython/core/interactiveshell.pyc\u001b[0m in \u001b[0;36mshowtraceback\u001b[0;34m(self, exc_tuple, filename, tb_offset, exception_only)\u001b[0m\n\u001b[1;32m   1828\u001b[0m                     \u001b[0;32mexcept\u001b[0m \u001b[0mException\u001b[0m\u001b[0;34m:\u001b[0m\u001b[0;34m\u001b[0m\u001b[0m\n\u001b[1;32m   1829\u001b[0m                         stb = self.InteractiveTB.structured_traceback(etype,\n\u001b[0;32m-> 1830\u001b[0;31m                                             value, tb, tb_offset=tb_offset)\n\u001b[0m\u001b[1;32m   1831\u001b[0m \u001b[0;34m\u001b[0m\u001b[0m\n\u001b[1;32m   1832\u001b[0m                     \u001b[0mself\u001b[0m\u001b[0;34m.\u001b[0m\u001b[0m_showtraceback\u001b[0m\u001b[0;34m(\u001b[0m\u001b[0metype\u001b[0m\u001b[0;34m,\u001b[0m \u001b[0mvalue\u001b[0m\u001b[0;34m,\u001b[0m \u001b[0mstb\u001b[0m\u001b[0;34m)\u001b[0m\u001b[0;34m\u001b[0m\u001b[0m\n",
      "\u001b[0;32m/Users/tgarske/anaconda/lib/python2.7/site-packages/IPython/core/ultratb.pyc\u001b[0m in \u001b[0;36mstructured_traceback\u001b[0;34m(self, etype, value, tb, tb_offset, number_of_lines_of_context)\u001b[0m\n",
      "\u001b[0;32m/Users/tgarske/anaconda/lib/python2.7/site-packages/IPython/core/ultratb.pyc\u001b[0m in \u001b[0;36mstructured_traceback\u001b[0;34m(self, etype, value, tb, tb_offset, number_of_lines_of_context)\u001b[0m\n",
      "\u001b[0;32m/Users/tgarske/anaconda/lib/python2.7/site-packages/IPython/core/ultratb.pyc\u001b[0m in \u001b[0;36mstructured_traceback\u001b[0;34m(self, etype, evalue, etb, tb_offset, number_of_lines_of_context)\u001b[0m\n",
      "\u001b[0;31mIndexError\u001b[0m: string index out of range"
     ]
    }
   ],
   "source": [
    "data = []\n",
    "for i in range(1,16):\n",
    "    jdata = []\n",
    "    for j in range(1,16):\n",
    "        hidden_units=[i*10,j*10]\n",
    "        model_name = \"model_{0}x{1}\".format(i*10,j*10)\n",
    "        val = run_DNNClassifier(model_name,steps=1000,hidden_units=hidden_units)\n",
    "        jdata.append(val)\n",
    "    data.append(jdata)\n",
    "\n",
    "results_df = pd.DataFrame(data, columns=[range(1,21)])"
   ]
  },
  {
   "cell_type": "code",
   "execution_count": null,
   "metadata": {
    "collapsed": true
   },
   "outputs": [],
   "source": [
    "data = []\n",
    "resultsfile = \"models/accuracy.pickle\"\n",
    "if os.path.isfile(resultsfile): \n",
    "    ### Load Results\n",
    "    with open(resultsfile, 'rb') as fp:\n",
    "        data = pickle.load(fp)\n",
    "    else: ### First run\n",
    "    with open(resultsfile, 'wb') as fp:\n",
    "        pickle.dump(data, fp)"
   ]
  }
 ],
 "metadata": {
  "anaconda-cloud": {},
  "kernelspec": {
   "display_name": "Python [Root]",
   "language": "python",
   "name": "Python [Root]"
  },
  "language_info": {
   "codemirror_mode": {
    "name": "ipython",
    "version": 2
   },
   "file_extension": ".py",
   "mimetype": "text/x-python",
   "name": "python",
   "nbconvert_exporter": "python",
   "pygments_lexer": "ipython2",
   "version": "2.7.12"
  }
 },
 "nbformat": 4,
 "nbformat_minor": 0
}
