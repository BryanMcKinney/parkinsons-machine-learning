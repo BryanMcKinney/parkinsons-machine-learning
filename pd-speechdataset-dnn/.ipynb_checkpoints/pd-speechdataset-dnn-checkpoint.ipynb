{
 "cells": [
  {
   "cell_type": "markdown",
   "metadata": {},
   "source": [
    "## SKFlow Deep Neural Network on Parkinson's Disease Speech Dataset"
   ]
  },
  {
   "cell_type": "markdown",
   "metadata": {},
   "source": [
    "https://archive.ics.uci.edu/ml/datasets/Parkinson+Speech+Dataset+with++Multiple+Types+of+Sound+Recordings"
   ]
  },
  {
   "cell_type": "code",
   "execution_count": null,
   "metadata": {
    "collapsed": true
   },
   "outputs": [],
   "source": [
    "import pandas as pd\n",
    "import tensorflow as tf\n",
    "import tensorflow.contrib.learn.python.learn as skflow\n",
    "from sklearn import datasets, metrics\n",
    "import numpy as np\n",
    "import os.path\n",
    "import pickle\n",
    "\n",
    "import warnings; \n",
    "warnings.simplefilter('ignore')"
   ]
  },
  {
   "cell_type": "code",
   "execution_count": null,
   "metadata": {
    "collapsed": true
   },
   "outputs": [],
   "source": [
    "### Converting Data into Tensors\n",
    "def convert_dataframe(dataframe, colnames, labelcol):\n",
    "    X = np.array(dataframe[colnames].iloc[:,]).astype(np.float32)\n",
    "    Y = np.array(dataframe[labelcol].iloc[:,]).astype(np.float32)  \n",
    "    return X, Y\n",
    "\n",
    "### load or generate random ids for test and training sets\n",
    "def slice_ids(length,run_id):\n",
    "    idfile = \"models/\"+run_id+\"_ids\"\n",
    "    if os.path.isfile(idfile): \n",
    "        ### Re-run model\n",
    "        with open(idfile, 'rb') as fp:\n",
    "            randomInd = pickle.load(fp)\n",
    "    else:\n",
    "        ### First run\n",
    "        randomInd = np.random.permutation(length)\n",
    "        with open(idfile, 'wb') as fp:\n",
    "            pickle.dump(randomInd, fp)\n",
    "    \n",
    "    ###  70% of ids randomly selected for training\n",
    "    ###  30% of ids randomly selected for testing\n",
    "    mid = int(.7*length)\n",
    "    trainidx = randomInd[:mid]\n",
    "    testidx = randomInd[mid:]\n",
    "    return trainidx, testidx\n",
    "\n",
    "def run_DNNClassifier(run_id, steps = 100, hidden_units = [48, 24, 24]):\n",
    "    ### Get Training and Testing indexes\n",
    "    trainidx, testidx = slice_ids(len(X),run_id)\n",
    "\n",
    "    ### Define classifier - DNN\n",
    "    ### model_dir - this is where the model is saved. To re-run use the same runIdentifier\n",
    "    feature_columns = skflow.infer_real_valued_columns_from_input(X)\n",
    "    model = skflow.DNNClassifier(\n",
    "        hidden_units=hidden_units, \n",
    "        n_classes= 3, # set to be the number of distinct categories of labels\n",
    "        feature_columns=feature_columns,\n",
    "        enable_centered_bias=True,\n",
    "        model_dir=\"models/DNN/\"+run_id)\n",
    "    \n",
    "    ### Fit Model\n",
    "    model.fit(X[trainidx,:], \n",
    "              Y[trainidx].astype(np.int), \n",
    "              steps=steps)\n",
    "    \n",
    "    ### Evaluate Model\n",
    "    y_p = model.predict(X[testidx,:])\n",
    "    y_t = Y[testidx]\n",
    "    return metrics.accuracy_score(y_t, y_p)"
   ]
  },
  {
   "cell_type": "markdown",
   "metadata": {},
   "source": [
    "### Load data and convert to tensors"
   ]
  },
  {
   "cell_type": "code",
   "execution_count": null,
   "metadata": {
    "collapsed": false
   },
   "outputs": [],
   "source": [
    "COLUMN_NAMES = [\"subject_id\", \"jitter_local\", \"jitter_local_absolute\", \"jitter_rap\", \"jitter_ppq5\",\n",
    "                 \"jitter_ddp\",\"shimmer_local\",\"shimmer_local_db\",\"shimmer_apq3\",\"shimmer_apq5\",\n",
    "                 \"shimmer_apq11\",\"shimmer_dda\",\"ac\",\"nth\",\"htn\",\"pitch_median\",\"pitch_mean\",\"pitch_stddev\",\n",
    "                 \"pitch_min\",\"pitch_max\",\"number_of_pulses\", \"number_of_periods\", \"period_mean\",\n",
    "                 \"period_stddev\",\"locally_unvoiced_frames_fraction\",\"number_of_voice_breaks\",\n",
    "                 \"degree_of_voice_breaks\",\"updrs\",\"class_information\"]\n",
    "\n",
    "datafile = \"data/train_data.txt\"\n",
    "df_data = pd.read_csv(datafile, names=COLUMN_NAMES, header=None)\n",
    "\n",
    "### Create list of column names for feature data.\n",
    "featcol = list(df_data.columns.values)\n",
    "featcol.remove(\"subject_id\")\n",
    "featcol.remove(\"class_information\")\n",
    "featcol.remove(\"updrs\")"
   ]
  },
  {
   "cell_type": "code",
   "execution_count": null,
   "metadata": {
    "collapsed": true
   },
   "outputs": [],
   "source": [
    "### Set Label Column and convert data\n",
    "labelcol = \"class_information\"\n",
    "X, Y = convert_dataframe(df_data, featcol, labelcol)"
   ]
  },
  {
   "cell_type": "markdown",
   "metadata": {},
   "source": [
    "### Run Some Different tests"
   ]
  },
  {
   "cell_type": "code",
   "execution_count": null,
   "metadata": {
    "collapsed": false
   },
   "outputs": [],
   "source": [
    "%%time\n",
    "print \"Accuracy: {0}\".format(run_DNNClassifier(\"model_48x24x24\",steps=10000,hidden_units=[48,24,24]))"
   ]
  },
  {
   "cell_type": "code",
   "execution_count": null,
   "metadata": {
    "collapsed": false
   },
   "outputs": [],
   "source": [
    "%%time\n",
    "print \"Accuracy: {0}\".format(run_DNNClassifier(\"model_10x10\",steps=10000,hidden_units=[10,10]))"
   ]
  },
  {
   "cell_type": "code",
   "execution_count": null,
   "metadata": {
    "collapsed": false
   },
   "outputs": [],
   "source": [
    "%%time\n",
    "print \"Accuracy: {0}\".format(run_DNNClassifier(\"model_26x26x26x26\",steps=10000,hidden_units=[26,26,26,26]))"
   ]
  },
  {
   "cell_type": "code",
   "execution_count": null,
   "metadata": {
    "collapsed": false
   },
   "outputs": [],
   "source": [
    "%%time\n",
    "print \"Accuracy: {0}\".format(run_DNNClassifier(\"model_100x100x100\",steps=10000,hidden_units=[100,100,100]))"
   ]
  },
  {
   "cell_type": "code",
   "execution_count": null,
   "metadata": {
    "collapsed": false
   },
   "outputs": [],
   "source": [
    "%%time\n",
    "print \"Accuracy: {0}\".format(run_DNNClassifier(\"model_100x26x100\",steps=10000,hidden_units=[100,26,100]))"
   ]
  },
  {
   "cell_type": "code",
   "execution_count": null,
   "metadata": {
    "collapsed": false
   },
   "outputs": [],
   "source": [
    "%%time\n",
    "print \"Accuracy: {0}\".format(run_DNNClassifier(\"model_26\",steps=10000,hidden_units=[26]))"
   ]
  },
  {
   "cell_type": "code",
   "execution_count": null,
   "metadata": {
    "collapsed": false
   },
   "outputs": [],
   "source": [
    "%%time\n",
    "print \"Accuracy: {0}\".format(run_DNNClassifier(\"model_4x4\",steps=10000,hidden_units=[4,4]))"
   ]
  }
 ],
 "metadata": {
  "anaconda-cloud": {},
  "kernelspec": {
   "display_name": "Python [Root]",
   "language": "python",
   "name": "Python [Root]"
  },
  "language_info": {
   "codemirror_mode": {
    "name": "ipython",
    "version": 2
   },
   "file_extension": ".py",
   "mimetype": "text/x-python",
   "name": "python",
   "nbconvert_exporter": "python",
   "pygments_lexer": "ipython2",
   "version": "2.7.12"
  }
 },
 "nbformat": 4,
 "nbformat_minor": 0
}
