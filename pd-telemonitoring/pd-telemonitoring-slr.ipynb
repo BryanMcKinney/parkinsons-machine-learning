{
 "cells": [
  {
   "cell_type": "markdown",
   "metadata": {},
   "source": [
    "## SKFlow Simple Linear Regression on Parkinson's Disease Telemonitoring Dataset"
   ]
  },
  {
   "cell_type": "markdown",
   "metadata": {},
   "source": [
    "https://archive.ics.uci.edu/ml/datasets/Parkinsons+Telemonitoring"
   ]
  },
  {
   "cell_type": "code",
   "execution_count": null,
   "metadata": {
    "collapsed": true
   },
   "outputs": [],
   "source": [
    "import pandas as pd\n",
    "import tensorflow as tf\n",
    "import tensorflow.contrib.learn.python.learn as skflow\n",
    "from sklearn import datasets, metrics\n",
    "import numpy as np\n",
    "import os.path\n",
    "import pickle"
   ]
  },
  {
   "cell_type": "markdown",
   "metadata": {},
   "source": [
    "### Function Defintions"
   ]
  },
  {
   "cell_type": "code",
   "execution_count": null,
   "metadata": {
    "collapsed": true
   },
   "outputs": [],
   "source": [
    "### Converting Data into Tensors\n",
    "def convert_dataframe(dataframe, colnames, labelcol):\n",
    "    X = np.array(dataframe[colnames].iloc[:,]).astype(np.float32)\n",
    "    Y = np.array(dataframe[labelcol].iloc[:,]).astype(np.float32)  \n",
    "    return X, Y\n",
    "\n",
    "### load or generate random ids for test and training sets\n",
    "def slice_ids(length,run_id):\n",
    "    idfile = \"models/\"+run_id+\"_ids\"\n",
    "    if os.path.isfile(idfile): \n",
    "        ### Re-run model\n",
    "        with open(idfile, 'rb') as fp:\n",
    "            randomInd = pickle.load(fp)\n",
    "    else:\n",
    "        ### First run\n",
    "        randomInd = np.random.permutation(length)\n",
    "        with open(idfile, 'wb') as fp:\n",
    "            pickle.dump(randomInd, fp)\n",
    "    \n",
    "    ###  70% of ids randomly selected for training\n",
    "    ###  30% of ids randomly selected for testing\n",
    "    mid = int(.7*length)\n",
    "    trainidx = randomInd[:mid]\n",
    "    testidx = randomInd[mid:]\n",
    "    return trainidx, testidx\n",
    "\n",
    "def run_LinearRegressor(run_id, steps = 100):\n",
    "    ### Get Training and Testing indexes\n",
    "    trainidx, testidx = slice_ids(len(X),run_id)\n",
    "\n",
    "    ### Define classifier - Simple Linear Regression\n",
    "    ### model_dir - this is where the model is saved. To re-run use the same runIdentifier\n",
    "    feature_columns = skflow.infer_real_valued_columns_from_input(X)\n",
    "    model = skflow.LinearRegressor(\n",
    "        feature_columns=feature_columns,\n",
    "        model_dir=\"models/SLR/\"+run_id,\n",
    "        enable_centered_bias=False)\n",
    "    \n",
    "    model.fit(X[trainidx,:], \n",
    "              Y[trainidx],#.astype(np.int), \n",
    "              steps=steps)\n",
    "    \n",
    "    y_p = model.predict(X[testidx,:])\n",
    "    y_t = Y[testidx]\n",
    "    return np.linalg.norm(y_t-y_p)/y_t.shape[0]"
   ]
  },
  {
   "cell_type": "markdown",
   "metadata": {},
   "source": [
    "### Load data and convert to tensors"
   ]
  },
  {
   "cell_type": "code",
   "execution_count": null,
   "metadata": {
    "collapsed": false
   },
   "outputs": [],
   "source": [
    "### Load datafile into dataframe\n",
    "datafile = \"data/data.txt\"\n",
    "df_data = pd.read_csv(datafile)\n",
    "\n",
    "### Create list of column names for feature data.\n",
    "featcol = list(df_data.columns.values)\n",
    "featcol.remove(\"subject#\")\n",
    "featcol.remove(\"total_UPDRS\")\n",
    "featcol.remove(\"motor_UPDRS\")"
   ]
  },
  {
   "cell_type": "markdown",
   "metadata": {},
   "source": [
    "### First Model fitting Motor_UPDRS - SLR"
   ]
  },
  {
   "cell_type": "code",
   "execution_count": null,
   "metadata": {
    "collapsed": false
   },
   "outputs": [],
   "source": [
    "labelcol = \"motor_UPDRS\" \n",
    "X, Y = convert_dataframe(df_data, featcol, labelcol)"
   ]
  },
  {
   "cell_type": "code",
   "execution_count": null,
   "metadata": {
    "collapsed": true
   },
   "outputs": [],
   "source": [
    "%%time\n",
    "print run_LinearRegressor(\"Motor_UPDRS_001\", 10000)"
   ]
  },
  {
   "cell_type": "code",
   "execution_count": null,
   "metadata": {
    "collapsed": true
   },
   "outputs": [],
   "source": [
    "%%time\n",
    "print run_LinearRegressor(\"Motor_UPDRS_002\", 10000)"
   ]
  },
  {
   "cell_type": "code",
   "execution_count": null,
   "metadata": {
    "collapsed": true
   },
   "outputs": [],
   "source": [
    "%%time\n",
    "print run_LinearRegressor(\"Motor_UPDRS_003\", 10000)"
   ]
  },
  {
   "cell_type": "code",
   "execution_count": null,
   "metadata": {
    "collapsed": true
   },
   "outputs": [],
   "source": [
    "%%time\n",
    "print run_LinearRegressor(\"Motor_UPDRS_004\", 10000)"
   ]
  },
  {
   "cell_type": "markdown",
   "metadata": {},
   "source": [
    "### Second Model fitting Total_UPDRS - SLR"
   ]
  },
  {
   "cell_type": "code",
   "execution_count": null,
   "metadata": {
    "collapsed": true
   },
   "outputs": [],
   "source": [
    "labelcol = \"total_UPDRS\"\n",
    "X, Y = convert_dataframe(df_data, featcol, labelcol)"
   ]
  },
  {
   "cell_type": "code",
   "execution_count": null,
   "metadata": {
    "collapsed": false
   },
   "outputs": [],
   "source": [
    "%%time\n",
    "print run_LinearRegressor(\"Total_UPDRS_001\", 10000)"
   ]
  },
  {
   "cell_type": "code",
   "execution_count": null,
   "metadata": {
    "collapsed": false
   },
   "outputs": [],
   "source": [
    "%%time\n",
    "print run_LinearRegressor(\"Total_UPDRS_002\", 10000)"
   ]
  },
  {
   "cell_type": "code",
   "execution_count": null,
   "metadata": {
    "collapsed": false
   },
   "outputs": [],
   "source": [
    "%%time\n",
    "print run_LinearRegressor(\"Total_UPDRS_003\", 10000)"
   ]
  },
  {
   "cell_type": "code",
   "execution_count": null,
   "metadata": {
    "collapsed": false
   },
   "outputs": [],
   "source": [
    "%%time\n",
    "print run_LinearRegressor(\"Total_UPDRS_004\", 10000)"
   ]
  }
 ],
 "metadata": {
  "anaconda-cloud": {},
  "kernelspec": {
   "display_name": "Python [Root]",
   "language": "python",
   "name": "Python [Root]"
  },
  "language_info": {
   "codemirror_mode": {
    "name": "ipython",
    "version": 2
   },
   "file_extension": ".py",
   "mimetype": "text/x-python",
   "name": "python",
   "nbconvert_exporter": "python",
   "pygments_lexer": "ipython2",
   "version": "2.7.12"
  }
 },
 "nbformat": 4,
 "nbformat_minor": 0
}
